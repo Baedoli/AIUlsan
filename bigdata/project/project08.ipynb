{
 "cells": [
  {
   "cell_type": "code",
   "execution_count": 5,
   "outputs": [],
   "source": [
    "import pandas as pd\n",
    "import numpy as np\n",
    "import googlemaps\n",
    "import matplotlib.pyplot as plt\n",
    "\n",
    "pd.set_option('display.max_columns',None)\n",
    "pd.set_option('display.max_rows',None)\n",
    "\n",
    "plt.rc('font',family='AppleGothic')\n",
    "plt.rcParams['axes.unicode_minus'] = False"
   ],
   "metadata": {
    "collapsed": false,
    "pycharm": {
     "name": "#%%\n"
    }
   }
  },
  {
   "cell_type": "code",
   "execution_count": 6,
   "outputs": [
    {
     "data": {
      "text/plain": "      지역               상호                      주소     상표          전화번호 셀프여부  \\\n0  부산광역시    동방석유㈜직영 대저주유소  부산 강서구 낙동북로 209 (대저1동)  SK에너지  051-971-2135    Y   \n1  부산광역시           우리2주유소   부산 강서구 낙동북로 142 (강동동)  알뜰주유소  051-971-5585    Y   \n2  부산광역시  (주)만은에너지 대사리주유소    부산 강서구 낙동북로 65 (강동동)  GS칼텍스  051-973-5999    Y   \n3  부산광역시            맥도주유소   부산 강서구 공항로 381 (대저2동)  알뜰주유소  051-973-5735    Y   \n4  부산광역시           우리들주유소   부산 강서구 낙동남로 667 (녹산동)  알뜰주유소  051-941-5145    Y   \n\n  고급휘발유   휘발유    경유 실내등유  \n0     -  2058  2078    -  \n1     -  2065  2075    -  \n2     -  2068  2078    -  \n3     -  2068  2088    -  \n4     -  2075  2085    -  ",
      "text/html": "<div>\n<style scoped>\n    .dataframe tbody tr th:only-of-type {\n        vertical-align: middle;\n    }\n\n    .dataframe tbody tr th {\n        vertical-align: top;\n    }\n\n    .dataframe thead th {\n        text-align: right;\n    }\n</style>\n<table border=\"1\" class=\"dataframe\">\n  <thead>\n    <tr style=\"text-align: right;\">\n      <th></th>\n      <th>지역</th>\n      <th>상호</th>\n      <th>주소</th>\n      <th>상표</th>\n      <th>전화번호</th>\n      <th>셀프여부</th>\n      <th>고급휘발유</th>\n      <th>휘발유</th>\n      <th>경유</th>\n      <th>실내등유</th>\n    </tr>\n  </thead>\n  <tbody>\n    <tr>\n      <th>0</th>\n      <td>부산광역시</td>\n      <td>동방석유㈜직영 대저주유소</td>\n      <td>부산 강서구 낙동북로 209 (대저1동)</td>\n      <td>SK에너지</td>\n      <td>051-971-2135</td>\n      <td>Y</td>\n      <td>-</td>\n      <td>2058</td>\n      <td>2078</td>\n      <td>-</td>\n    </tr>\n    <tr>\n      <th>1</th>\n      <td>부산광역시</td>\n      <td>우리2주유소</td>\n      <td>부산 강서구 낙동북로 142 (강동동)</td>\n      <td>알뜰주유소</td>\n      <td>051-971-5585</td>\n      <td>Y</td>\n      <td>-</td>\n      <td>2065</td>\n      <td>2075</td>\n      <td>-</td>\n    </tr>\n    <tr>\n      <th>2</th>\n      <td>부산광역시</td>\n      <td>(주)만은에너지 대사리주유소</td>\n      <td>부산 강서구 낙동북로 65 (강동동)</td>\n      <td>GS칼텍스</td>\n      <td>051-973-5999</td>\n      <td>Y</td>\n      <td>-</td>\n      <td>2068</td>\n      <td>2078</td>\n      <td>-</td>\n    </tr>\n    <tr>\n      <th>3</th>\n      <td>부산광역시</td>\n      <td>맥도주유소</td>\n      <td>부산 강서구 공항로 381 (대저2동)</td>\n      <td>알뜰주유소</td>\n      <td>051-973-5735</td>\n      <td>Y</td>\n      <td>-</td>\n      <td>2068</td>\n      <td>2088</td>\n      <td>-</td>\n    </tr>\n    <tr>\n      <th>4</th>\n      <td>부산광역시</td>\n      <td>우리들주유소</td>\n      <td>부산 강서구 낙동남로 667 (녹산동)</td>\n      <td>알뜰주유소</td>\n      <td>051-941-5145</td>\n      <td>Y</td>\n      <td>-</td>\n      <td>2075</td>\n      <td>2085</td>\n      <td>-</td>\n    </tr>\n  </tbody>\n</table>\n</div>"
     },
     "execution_count": 6,
     "metadata": {},
     "output_type": "execute_result"
    }
   ],
   "source": [
    "path = '/Users/baeseongho/PycharmProjects/AIULSAN/AIUlsan/bigdata/data/'\n",
    "\n",
    "df = pd.read_csv(path+'지역_위치별(주유소)_부산.csv')\n",
    "\n",
    "df.head()\n"
   ],
   "metadata": {
    "collapsed": false,
    "pycharm": {
     "name": "#%%\n"
    }
   }
  },
  {
   "cell_type": "code",
   "execution_count": 10,
   "outputs": [
    {
     "data": {
      "text/plain": "              주유소명                      주소  경유가격 셀프               상호\n0    동방석유㈜직영 대저주유소  부산 강서구 낙동북로 209 (대저1동)  2078  Y    동방석유㈜직영 대저주유소\n1           우리2주유소   부산 강서구 낙동북로 142 (강동동)  2075  Y           우리2주유소\n2  (주)만은에너지 대사리주유소    부산 강서구 낙동북로 65 (강동동)  2078  Y  (주)만은에너지 대사리주유소\n3            맥도주유소   부산 강서구 공항로 381 (대저2동)  2088  Y            맥도주유소\n4           우리들주유소   부산 강서구 낙동남로 667 (녹산동)  2085  Y           우리들주유소",
      "text/html": "<div>\n<style scoped>\n    .dataframe tbody tr th:only-of-type {\n        vertical-align: middle;\n    }\n\n    .dataframe tbody tr th {\n        vertical-align: top;\n    }\n\n    .dataframe thead th {\n        text-align: right;\n    }\n</style>\n<table border=\"1\" class=\"dataframe\">\n  <thead>\n    <tr style=\"text-align: right;\">\n      <th></th>\n      <th>주유소명</th>\n      <th>주소</th>\n      <th>경유가격</th>\n      <th>셀프</th>\n      <th>상호</th>\n    </tr>\n  </thead>\n  <tbody>\n    <tr>\n      <th>0</th>\n      <td>동방석유㈜직영 대저주유소</td>\n      <td>부산 강서구 낙동북로 209 (대저1동)</td>\n      <td>2078</td>\n      <td>Y</td>\n      <td>동방석유㈜직영 대저주유소</td>\n    </tr>\n    <tr>\n      <th>1</th>\n      <td>우리2주유소</td>\n      <td>부산 강서구 낙동북로 142 (강동동)</td>\n      <td>2075</td>\n      <td>Y</td>\n      <td>우리2주유소</td>\n    </tr>\n    <tr>\n      <th>2</th>\n      <td>(주)만은에너지 대사리주유소</td>\n      <td>부산 강서구 낙동북로 65 (강동동)</td>\n      <td>2078</td>\n      <td>Y</td>\n      <td>(주)만은에너지 대사리주유소</td>\n    </tr>\n    <tr>\n      <th>3</th>\n      <td>맥도주유소</td>\n      <td>부산 강서구 공항로 381 (대저2동)</td>\n      <td>2088</td>\n      <td>Y</td>\n      <td>맥도주유소</td>\n    </tr>\n    <tr>\n      <th>4</th>\n      <td>우리들주유소</td>\n      <td>부산 강서구 낙동남로 667 (녹산동)</td>\n      <td>2085</td>\n      <td>Y</td>\n      <td>우리들주유소</td>\n    </tr>\n  </tbody>\n</table>\n</div>"
     },
     "execution_count": 10,
     "metadata": {},
     "output_type": "execute_result"
    }
   ],
   "source": [
    "stations_diesel = pd.DataFrame({'주유소명':df['상호'],\n",
    "                                '주소':df['주소'],\n",
    "                                '경유가격':df['경유'],\n",
    "                                '셀프':df['셀프여부'],\n",
    "                                '상호':df['상호']})\n",
    "\n",
    "stations_diesel.head()"
   ],
   "metadata": {
    "collapsed": false,
    "pycharm": {
     "name": "#%%\n"
    }
   }
  },
  {
   "cell_type": "code",
   "execution_count": 12,
   "outputs": [
    {
     "data": {
      "text/plain": "              주유소명                      주소  휘발유가격 셀프     상표\n0    동방석유㈜직영 대저주유소  부산 강서구 낙동북로 209 (대저1동)   2058  Y  SK에너지\n1           우리2주유소   부산 강서구 낙동북로 142 (강동동)   2065  Y  알뜰주유소\n2  (주)만은에너지 대사리주유소    부산 강서구 낙동북로 65 (강동동)   2068  Y  GS칼텍스\n3            맥도주유소   부산 강서구 공항로 381 (대저2동)   2068  Y  알뜰주유소\n4           우리들주유소   부산 강서구 낙동남로 667 (녹산동)   2075  Y  알뜰주유소",
      "text/html": "<div>\n<style scoped>\n    .dataframe tbody tr th:only-of-type {\n        vertical-align: middle;\n    }\n\n    .dataframe tbody tr th {\n        vertical-align: top;\n    }\n\n    .dataframe thead th {\n        text-align: right;\n    }\n</style>\n<table border=\"1\" class=\"dataframe\">\n  <thead>\n    <tr style=\"text-align: right;\">\n      <th></th>\n      <th>주유소명</th>\n      <th>주소</th>\n      <th>휘발유가격</th>\n      <th>셀프</th>\n      <th>상표</th>\n    </tr>\n  </thead>\n  <tbody>\n    <tr>\n      <th>0</th>\n      <td>동방석유㈜직영 대저주유소</td>\n      <td>부산 강서구 낙동북로 209 (대저1동)</td>\n      <td>2058</td>\n      <td>Y</td>\n      <td>SK에너지</td>\n    </tr>\n    <tr>\n      <th>1</th>\n      <td>우리2주유소</td>\n      <td>부산 강서구 낙동북로 142 (강동동)</td>\n      <td>2065</td>\n      <td>Y</td>\n      <td>알뜰주유소</td>\n    </tr>\n    <tr>\n      <th>2</th>\n      <td>(주)만은에너지 대사리주유소</td>\n      <td>부산 강서구 낙동북로 65 (강동동)</td>\n      <td>2068</td>\n      <td>Y</td>\n      <td>GS칼텍스</td>\n    </tr>\n    <tr>\n      <th>3</th>\n      <td>맥도주유소</td>\n      <td>부산 강서구 공항로 381 (대저2동)</td>\n      <td>2068</td>\n      <td>Y</td>\n      <td>알뜰주유소</td>\n    </tr>\n    <tr>\n      <th>4</th>\n      <td>우리들주유소</td>\n      <td>부산 강서구 낙동남로 667 (녹산동)</td>\n      <td>2075</td>\n      <td>Y</td>\n      <td>알뜰주유소</td>\n    </tr>\n  </tbody>\n</table>\n</div>"
     },
     "execution_count": 12,
     "metadata": {},
     "output_type": "execute_result"
    }
   ],
   "source": [
    "stations_gasoline = pd.DataFrame({'주유소명':df['상호'],\n",
    "                                  '주소':df['주소'],\n",
    "                                  '휘발유가격':df['휘발유'],\n",
    "                                  '셀프':df['셀프여부'],\n",
    "                                  '상표':df['상표']})\n",
    "\n",
    "stations_gasoline.head()"
   ],
   "metadata": {
    "collapsed": false,
    "pycharm": {
     "name": "#%%\n"
    }
   }
  },
  {
   "cell_type": "code",
   "execution_count": null,
   "outputs": [],
   "source": [],
   "metadata": {
    "collapsed": false,
    "pycharm": {
     "name": "#%%\n"
    }
   }
  }
 ],
 "metadata": {
  "kernelspec": {
   "display_name": "Python 3",
   "language": "python",
   "name": "python3"
  },
  "language_info": {
   "codemirror_mode": {
    "name": "ipython",
    "version": 2
   },
   "file_extension": ".py",
   "mimetype": "text/x-python",
   "name": "python",
   "nbconvert_exporter": "python",
   "pygments_lexer": "ipython2",
   "version": "2.7.6"
  }
 },
 "nbformat": 4,
 "nbformat_minor": 0
}