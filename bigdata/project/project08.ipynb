{
 "cells": [
  {
   "cell_type": "code",
   "execution_count": 2,
   "outputs": [],
   "source": [
    "import pandas as pd\n",
    "import numpy as np\n",
    "import googlemaps\n",
    "import matplotlib.pyplot as plt\n",
    "\n",
    "pd.set_option('display.max_columns',None)\n",
    "pd.set_option('display.max_rows',None)\n",
    "\n",
    "plt.rc('font',family='AppleGothic')\n",
    "plt.rcParams['axes.unicode_minus'] = False"
   ],
   "metadata": {
    "collapsed": false,
    "pycharm": {
     "name": "#%%\n"
    }
   }
  },
  {
   "cell_type": "code",
   "execution_count": 3,
   "outputs": [
    {
     "data": {
      "text/plain": "      지역               상호                      주소     상표          전화번호 셀프여부  \\\n0  부산광역시    동방석유㈜직영 대저주유소  부산 강서구 낙동북로 209 (대저1동)  SK에너지  051-971-2135    Y   \n1  부산광역시           우리2주유소   부산 강서구 낙동북로 142 (강동동)  알뜰주유소  051-971-5585    Y   \n2  부산광역시  (주)만은에너지 대사리주유소    부산 강서구 낙동북로 65 (강동동)  GS칼텍스  051-973-5999    Y   \n3  부산광역시            맥도주유소   부산 강서구 공항로 381 (대저2동)  알뜰주유소  051-973-5735    Y   \n4  부산광역시           우리들주유소   부산 강서구 낙동남로 667 (녹산동)  알뜰주유소  051-941-5145    Y   \n\n  고급휘발유   휘발유    경유 실내등유  \n0     -  2058  2078    -  \n1     -  2065  2075    -  \n2     -  2068  2078    -  \n3     -  2068  2088    -  \n4     -  2075  2085    -  ",
      "text/html": "<div>\n<style scoped>\n    .dataframe tbody tr th:only-of-type {\n        vertical-align: middle;\n    }\n\n    .dataframe tbody tr th {\n        vertical-align: top;\n    }\n\n    .dataframe thead th {\n        text-align: right;\n    }\n</style>\n<table border=\"1\" class=\"dataframe\">\n  <thead>\n    <tr style=\"text-align: right;\">\n      <th></th>\n      <th>지역</th>\n      <th>상호</th>\n      <th>주소</th>\n      <th>상표</th>\n      <th>전화번호</th>\n      <th>셀프여부</th>\n      <th>고급휘발유</th>\n      <th>휘발유</th>\n      <th>경유</th>\n      <th>실내등유</th>\n    </tr>\n  </thead>\n  <tbody>\n    <tr>\n      <th>0</th>\n      <td>부산광역시</td>\n      <td>동방석유㈜직영 대저주유소</td>\n      <td>부산 강서구 낙동북로 209 (대저1동)</td>\n      <td>SK에너지</td>\n      <td>051-971-2135</td>\n      <td>Y</td>\n      <td>-</td>\n      <td>2058</td>\n      <td>2078</td>\n      <td>-</td>\n    </tr>\n    <tr>\n      <th>1</th>\n      <td>부산광역시</td>\n      <td>우리2주유소</td>\n      <td>부산 강서구 낙동북로 142 (강동동)</td>\n      <td>알뜰주유소</td>\n      <td>051-971-5585</td>\n      <td>Y</td>\n      <td>-</td>\n      <td>2065</td>\n      <td>2075</td>\n      <td>-</td>\n    </tr>\n    <tr>\n      <th>2</th>\n      <td>부산광역시</td>\n      <td>(주)만은에너지 대사리주유소</td>\n      <td>부산 강서구 낙동북로 65 (강동동)</td>\n      <td>GS칼텍스</td>\n      <td>051-973-5999</td>\n      <td>Y</td>\n      <td>-</td>\n      <td>2068</td>\n      <td>2078</td>\n      <td>-</td>\n    </tr>\n    <tr>\n      <th>3</th>\n      <td>부산광역시</td>\n      <td>맥도주유소</td>\n      <td>부산 강서구 공항로 381 (대저2동)</td>\n      <td>알뜰주유소</td>\n      <td>051-973-5735</td>\n      <td>Y</td>\n      <td>-</td>\n      <td>2068</td>\n      <td>2088</td>\n      <td>-</td>\n    </tr>\n    <tr>\n      <th>4</th>\n      <td>부산광역시</td>\n      <td>우리들주유소</td>\n      <td>부산 강서구 낙동남로 667 (녹산동)</td>\n      <td>알뜰주유소</td>\n      <td>051-941-5145</td>\n      <td>Y</td>\n      <td>-</td>\n      <td>2075</td>\n      <td>2085</td>\n      <td>-</td>\n    </tr>\n  </tbody>\n</table>\n</div>"
     },
     "execution_count": 3,
     "metadata": {},
     "output_type": "execute_result"
    }
   ],
   "source": [
    "path = '/Users/baeseongho/PycharmProjects/AIULSAN/AIUlsan/bigdata/data/'\n",
    "\n",
    "df = pd.read_csv(path+'지역_위치별(주유소)_부산.csv')\n",
    "\n",
    "df.head()\n"
   ],
   "metadata": {
    "collapsed": false,
    "pycharm": {
     "name": "#%%\n"
    }
   }
  },
  {
   "cell_type": "code",
   "execution_count": 4,
   "outputs": [
    {
     "data": {
      "text/plain": "              주유소명                      주소  경유가격 셀프               상호\n0    동방석유㈜직영 대저주유소  부산 강서구 낙동북로 209 (대저1동)  2078  Y    동방석유㈜직영 대저주유소\n1           우리2주유소   부산 강서구 낙동북로 142 (강동동)  2075  Y           우리2주유소\n2  (주)만은에너지 대사리주유소    부산 강서구 낙동북로 65 (강동동)  2078  Y  (주)만은에너지 대사리주유소\n3            맥도주유소   부산 강서구 공항로 381 (대저2동)  2088  Y            맥도주유소\n4           우리들주유소   부산 강서구 낙동남로 667 (녹산동)  2085  Y           우리들주유소",
      "text/html": "<div>\n<style scoped>\n    .dataframe tbody tr th:only-of-type {\n        vertical-align: middle;\n    }\n\n    .dataframe tbody tr th {\n        vertical-align: top;\n    }\n\n    .dataframe thead th {\n        text-align: right;\n    }\n</style>\n<table border=\"1\" class=\"dataframe\">\n  <thead>\n    <tr style=\"text-align: right;\">\n      <th></th>\n      <th>주유소명</th>\n      <th>주소</th>\n      <th>경유가격</th>\n      <th>셀프</th>\n      <th>상호</th>\n    </tr>\n  </thead>\n  <tbody>\n    <tr>\n      <th>0</th>\n      <td>동방석유㈜직영 대저주유소</td>\n      <td>부산 강서구 낙동북로 209 (대저1동)</td>\n      <td>2078</td>\n      <td>Y</td>\n      <td>동방석유㈜직영 대저주유소</td>\n    </tr>\n    <tr>\n      <th>1</th>\n      <td>우리2주유소</td>\n      <td>부산 강서구 낙동북로 142 (강동동)</td>\n      <td>2075</td>\n      <td>Y</td>\n      <td>우리2주유소</td>\n    </tr>\n    <tr>\n      <th>2</th>\n      <td>(주)만은에너지 대사리주유소</td>\n      <td>부산 강서구 낙동북로 65 (강동동)</td>\n      <td>2078</td>\n      <td>Y</td>\n      <td>(주)만은에너지 대사리주유소</td>\n    </tr>\n    <tr>\n      <th>3</th>\n      <td>맥도주유소</td>\n      <td>부산 강서구 공항로 381 (대저2동)</td>\n      <td>2088</td>\n      <td>Y</td>\n      <td>맥도주유소</td>\n    </tr>\n    <tr>\n      <th>4</th>\n      <td>우리들주유소</td>\n      <td>부산 강서구 낙동남로 667 (녹산동)</td>\n      <td>2085</td>\n      <td>Y</td>\n      <td>우리들주유소</td>\n    </tr>\n  </tbody>\n</table>\n</div>"
     },
     "execution_count": 4,
     "metadata": {},
     "output_type": "execute_result"
    }
   ],
   "source": [
    "stations_diesel = pd.DataFrame({'주유소명':df['상호'],\n",
    "                                '주소':df['주소'],\n",
    "                                '경유가격':df['경유'],\n",
    "                                '셀프':df['셀프여부'],\n",
    "                                '상호':df['상호']})\n",
    "\n",
    "stations_diesel.head()"
   ],
   "metadata": {
    "collapsed": false,
    "pycharm": {
     "name": "#%%\n"
    }
   }
  },
  {
   "cell_type": "code",
   "execution_count": 5,
   "outputs": [
    {
     "data": {
      "text/plain": "              주유소명                      주소  휘발유가격 셀프     상표\n0    동방석유㈜직영 대저주유소  부산 강서구 낙동북로 209 (대저1동)   2058  Y  SK에너지\n1           우리2주유소   부산 강서구 낙동북로 142 (강동동)   2065  Y  알뜰주유소\n2  (주)만은에너지 대사리주유소    부산 강서구 낙동북로 65 (강동동)   2068  Y  GS칼텍스\n3            맥도주유소   부산 강서구 공항로 381 (대저2동)   2068  Y  알뜰주유소\n4           우리들주유소   부산 강서구 낙동남로 667 (녹산동)   2075  Y  알뜰주유소",
      "text/html": "<div>\n<style scoped>\n    .dataframe tbody tr th:only-of-type {\n        vertical-align: middle;\n    }\n\n    .dataframe tbody tr th {\n        vertical-align: top;\n    }\n\n    .dataframe thead th {\n        text-align: right;\n    }\n</style>\n<table border=\"1\" class=\"dataframe\">\n  <thead>\n    <tr style=\"text-align: right;\">\n      <th></th>\n      <th>주유소명</th>\n      <th>주소</th>\n      <th>휘발유가격</th>\n      <th>셀프</th>\n      <th>상표</th>\n    </tr>\n  </thead>\n  <tbody>\n    <tr>\n      <th>0</th>\n      <td>동방석유㈜직영 대저주유소</td>\n      <td>부산 강서구 낙동북로 209 (대저1동)</td>\n      <td>2058</td>\n      <td>Y</td>\n      <td>SK에너지</td>\n    </tr>\n    <tr>\n      <th>1</th>\n      <td>우리2주유소</td>\n      <td>부산 강서구 낙동북로 142 (강동동)</td>\n      <td>2065</td>\n      <td>Y</td>\n      <td>알뜰주유소</td>\n    </tr>\n    <tr>\n      <th>2</th>\n      <td>(주)만은에너지 대사리주유소</td>\n      <td>부산 강서구 낙동북로 65 (강동동)</td>\n      <td>2068</td>\n      <td>Y</td>\n      <td>GS칼텍스</td>\n    </tr>\n    <tr>\n      <th>3</th>\n      <td>맥도주유소</td>\n      <td>부산 강서구 공항로 381 (대저2동)</td>\n      <td>2068</td>\n      <td>Y</td>\n      <td>알뜰주유소</td>\n    </tr>\n    <tr>\n      <th>4</th>\n      <td>우리들주유소</td>\n      <td>부산 강서구 낙동남로 667 (녹산동)</td>\n      <td>2075</td>\n      <td>Y</td>\n      <td>알뜰주유소</td>\n    </tr>\n  </tbody>\n</table>\n</div>"
     },
     "execution_count": 5,
     "metadata": {},
     "output_type": "execute_result"
    }
   ],
   "source": [
    "stations_gasoline = pd.DataFrame({'주유소명':df['상호'],\n",
    "                                  '주소':df['주소'],\n",
    "                                  '휘발유가격':df['휘발유'],\n",
    "                                  '셀프':df['셀프여부'],\n",
    "                                  '상표':df['상표']})\n",
    "\n",
    "stations_gasoline.head()"
   ],
   "metadata": {
    "collapsed": false,
    "pycharm": {
     "name": "#%%\n"
    }
   }
  },
  {
   "cell_type": "code",
   "execution_count": 6,
   "outputs": [
    {
     "data": {
      "text/plain": "              주유소명                      주소  경유가격 셀프               상호    구\n0    동방석유㈜직영 대저주유소  부산 강서구 낙동북로 209 (대저1동)  2078  Y    동방석유㈜직영 대저주유소  강서구\n1           우리2주유소   부산 강서구 낙동북로 142 (강동동)  2075  Y           우리2주유소  강서구\n2  (주)만은에너지 대사리주유소    부산 강서구 낙동북로 65 (강동동)  2078  Y  (주)만은에너지 대사리주유소  강서구\n3            맥도주유소   부산 강서구 공항로 381 (대저2동)  2088  Y            맥도주유소  강서구\n4           우리들주유소   부산 강서구 낙동남로 667 (녹산동)  2085  Y           우리들주유소  강서구",
      "text/html": "<div>\n<style scoped>\n    .dataframe tbody tr th:only-of-type {\n        vertical-align: middle;\n    }\n\n    .dataframe tbody tr th {\n        vertical-align: top;\n    }\n\n    .dataframe thead th {\n        text-align: right;\n    }\n</style>\n<table border=\"1\" class=\"dataframe\">\n  <thead>\n    <tr style=\"text-align: right;\">\n      <th></th>\n      <th>주유소명</th>\n      <th>주소</th>\n      <th>경유가격</th>\n      <th>셀프</th>\n      <th>상호</th>\n      <th>구</th>\n    </tr>\n  </thead>\n  <tbody>\n    <tr>\n      <th>0</th>\n      <td>동방석유㈜직영 대저주유소</td>\n      <td>부산 강서구 낙동북로 209 (대저1동)</td>\n      <td>2078</td>\n      <td>Y</td>\n      <td>동방석유㈜직영 대저주유소</td>\n      <td>강서구</td>\n    </tr>\n    <tr>\n      <th>1</th>\n      <td>우리2주유소</td>\n      <td>부산 강서구 낙동북로 142 (강동동)</td>\n      <td>2075</td>\n      <td>Y</td>\n      <td>우리2주유소</td>\n      <td>강서구</td>\n    </tr>\n    <tr>\n      <th>2</th>\n      <td>(주)만은에너지 대사리주유소</td>\n      <td>부산 강서구 낙동북로 65 (강동동)</td>\n      <td>2078</td>\n      <td>Y</td>\n      <td>(주)만은에너지 대사리주유소</td>\n      <td>강서구</td>\n    </tr>\n    <tr>\n      <th>3</th>\n      <td>맥도주유소</td>\n      <td>부산 강서구 공항로 381 (대저2동)</td>\n      <td>2088</td>\n      <td>Y</td>\n      <td>맥도주유소</td>\n      <td>강서구</td>\n    </tr>\n    <tr>\n      <th>4</th>\n      <td>우리들주유소</td>\n      <td>부산 강서구 낙동남로 667 (녹산동)</td>\n      <td>2085</td>\n      <td>Y</td>\n      <td>우리들주유소</td>\n      <td>강서구</td>\n    </tr>\n  </tbody>\n</table>\n</div>"
     },
     "execution_count": 6,
     "metadata": {},
     "output_type": "execute_result"
    }
   ],
   "source": [
    "stations_diesel['구'] = [eachAddress.split()[1] for eachAddress in stations_diesel['주소'] ]\n",
    "\n",
    "stations_diesel.head()"
   ],
   "metadata": {
    "collapsed": false,
    "pycharm": {
     "name": "#%%\n"
    }
   }
  },
  {
   "cell_type": "code",
   "execution_count": 7,
   "outputs": [
    {
     "data": {
      "text/plain": "              주유소명                      주소  휘발유가격 셀프     상표    구\n0    동방석유㈜직영 대저주유소  부산 강서구 낙동북로 209 (대저1동)   2058  Y  SK에너지  강서구\n1           우리2주유소   부산 강서구 낙동북로 142 (강동동)   2065  Y  알뜰주유소  강서구\n2  (주)만은에너지 대사리주유소    부산 강서구 낙동북로 65 (강동동)   2068  Y  GS칼텍스  강서구\n3            맥도주유소   부산 강서구 공항로 381 (대저2동)   2068  Y  알뜰주유소  강서구\n4           우리들주유소   부산 강서구 낙동남로 667 (녹산동)   2075  Y  알뜰주유소  강서구",
      "text/html": "<div>\n<style scoped>\n    .dataframe tbody tr th:only-of-type {\n        vertical-align: middle;\n    }\n\n    .dataframe tbody tr th {\n        vertical-align: top;\n    }\n\n    .dataframe thead th {\n        text-align: right;\n    }\n</style>\n<table border=\"1\" class=\"dataframe\">\n  <thead>\n    <tr style=\"text-align: right;\">\n      <th></th>\n      <th>주유소명</th>\n      <th>주소</th>\n      <th>휘발유가격</th>\n      <th>셀프</th>\n      <th>상표</th>\n      <th>구</th>\n    </tr>\n  </thead>\n  <tbody>\n    <tr>\n      <th>0</th>\n      <td>동방석유㈜직영 대저주유소</td>\n      <td>부산 강서구 낙동북로 209 (대저1동)</td>\n      <td>2058</td>\n      <td>Y</td>\n      <td>SK에너지</td>\n      <td>강서구</td>\n    </tr>\n    <tr>\n      <th>1</th>\n      <td>우리2주유소</td>\n      <td>부산 강서구 낙동북로 142 (강동동)</td>\n      <td>2065</td>\n      <td>Y</td>\n      <td>알뜰주유소</td>\n      <td>강서구</td>\n    </tr>\n    <tr>\n      <th>2</th>\n      <td>(주)만은에너지 대사리주유소</td>\n      <td>부산 강서구 낙동북로 65 (강동동)</td>\n      <td>2068</td>\n      <td>Y</td>\n      <td>GS칼텍스</td>\n      <td>강서구</td>\n    </tr>\n    <tr>\n      <th>3</th>\n      <td>맥도주유소</td>\n      <td>부산 강서구 공항로 381 (대저2동)</td>\n      <td>2068</td>\n      <td>Y</td>\n      <td>알뜰주유소</td>\n      <td>강서구</td>\n    </tr>\n    <tr>\n      <th>4</th>\n      <td>우리들주유소</td>\n      <td>부산 강서구 낙동남로 667 (녹산동)</td>\n      <td>2075</td>\n      <td>Y</td>\n      <td>알뜰주유소</td>\n      <td>강서구</td>\n    </tr>\n  </tbody>\n</table>\n</div>"
     },
     "execution_count": 7,
     "metadata": {},
     "output_type": "execute_result"
    }
   ],
   "source": [
    "stations_gasoline['구'] = [eachAddress.split()[1] for eachAddress in stations_gasoline['주소']]\n",
    "\n",
    "stations_gasoline.head()"
   ],
   "metadata": {
    "collapsed": false,
    "pycharm": {
     "name": "#%%\n"
    }
   }
  },
  {
   "cell_type": "code",
   "execution_count": 9,
   "outputs": [
    {
     "name": "stdout",
     "output_type": "stream",
     "text": [
      "['강서구' '금정구' '기장군' '남구' '동구' '동래구' '부산진구' '북구' '사상구' '사하구' '서구' '수영구'\n",
      " '연제구' '영도구' '중구' '해운대구']\n"
     ]
    }
   ],
   "source": [
    "print(stations_diesel.loc[:,'구'].unique())\n",
    "print(stations_gasoline.loc[:,'구'].unique())"
   ],
   "metadata": {
    "collapsed": false,
    "pycharm": {
     "name": "#%%\n"
    }
   }
  },
  {
   "cell_type": "code",
   "execution_count": 14,
   "outputs": [
    {
     "data": {
      "text/plain": "                   주유소명                      주소  휘발유가격 셀프      상표     구\n154         ㈜삼현석유 천일주유소    부산 동구 중앙대로 168 (초량동)   2385  N   S-OIL    동구\n373      (주)나부코직영 우원주유소  부산 영도구 태종로 181 (봉래동4가)   2338  N   SK에너지   영도구\n372               남항주유소         부산 영도구 남항서로 116   2298  N   SK에너지   영도구\n371               동방주유소   부산 영도구 남항서로 96(남항동2가)   2278  N   S-OIL   영도구\n260               건영주유소    부산 사상구 가야대로 63 (감전동)   2238  N   SK에너지   사상구\n259            아시아사상주유소    부산 사상구 새벽로 207 (괘법동)   2237  N   SK에너지   사상구\n411  광신석유(주)직영 해운대중동주유소     부산 해운대구 좌동로 18 (중동)   2199  Y   SK에너지  해운대구\n115          (주)SK정관주유소     부산 기장군 정관면 정관덕산길 21   2199  Y   SK에너지   기장군\n144               대성주유소   부산광역시 남구 문현로 67 (문현동)   2199  N  현대오일뱅크    남구\n173               태인주유소  부산 동래구 중앙대로 1259 (사직동)   2199  Y   S-OIL   동래구",
      "text/html": "<div>\n<style scoped>\n    .dataframe tbody tr th:only-of-type {\n        vertical-align: middle;\n    }\n\n    .dataframe tbody tr th {\n        vertical-align: top;\n    }\n\n    .dataframe thead th {\n        text-align: right;\n    }\n</style>\n<table border=\"1\" class=\"dataframe\">\n  <thead>\n    <tr style=\"text-align: right;\">\n      <th></th>\n      <th>주유소명</th>\n      <th>주소</th>\n      <th>휘발유가격</th>\n      <th>셀프</th>\n      <th>상표</th>\n      <th>구</th>\n    </tr>\n  </thead>\n  <tbody>\n    <tr>\n      <th>154</th>\n      <td>㈜삼현석유 천일주유소</td>\n      <td>부산 동구 중앙대로 168 (초량동)</td>\n      <td>2385</td>\n      <td>N</td>\n      <td>S-OIL</td>\n      <td>동구</td>\n    </tr>\n    <tr>\n      <th>373</th>\n      <td>(주)나부코직영 우원주유소</td>\n      <td>부산 영도구 태종로 181 (봉래동4가)</td>\n      <td>2338</td>\n      <td>N</td>\n      <td>SK에너지</td>\n      <td>영도구</td>\n    </tr>\n    <tr>\n      <th>372</th>\n      <td>남항주유소</td>\n      <td>부산 영도구 남항서로 116</td>\n      <td>2298</td>\n      <td>N</td>\n      <td>SK에너지</td>\n      <td>영도구</td>\n    </tr>\n    <tr>\n      <th>371</th>\n      <td>동방주유소</td>\n      <td>부산 영도구 남항서로 96(남항동2가)</td>\n      <td>2278</td>\n      <td>N</td>\n      <td>S-OIL</td>\n      <td>영도구</td>\n    </tr>\n    <tr>\n      <th>260</th>\n      <td>건영주유소</td>\n      <td>부산 사상구 가야대로 63 (감전동)</td>\n      <td>2238</td>\n      <td>N</td>\n      <td>SK에너지</td>\n      <td>사상구</td>\n    </tr>\n    <tr>\n      <th>259</th>\n      <td>아시아사상주유소</td>\n      <td>부산 사상구 새벽로 207 (괘법동)</td>\n      <td>2237</td>\n      <td>N</td>\n      <td>SK에너지</td>\n      <td>사상구</td>\n    </tr>\n    <tr>\n      <th>411</th>\n      <td>광신석유(주)직영 해운대중동주유소</td>\n      <td>부산 해운대구 좌동로 18 (중동)</td>\n      <td>2199</td>\n      <td>Y</td>\n      <td>SK에너지</td>\n      <td>해운대구</td>\n    </tr>\n    <tr>\n      <th>115</th>\n      <td>(주)SK정관주유소</td>\n      <td>부산 기장군 정관면 정관덕산길 21</td>\n      <td>2199</td>\n      <td>Y</td>\n      <td>SK에너지</td>\n      <td>기장군</td>\n    </tr>\n    <tr>\n      <th>144</th>\n      <td>대성주유소</td>\n      <td>부산광역시 남구 문현로 67 (문현동)</td>\n      <td>2199</td>\n      <td>N</td>\n      <td>현대오일뱅크</td>\n      <td>남구</td>\n    </tr>\n    <tr>\n      <th>173</th>\n      <td>태인주유소</td>\n      <td>부산 동래구 중앙대로 1259 (사직동)</td>\n      <td>2199</td>\n      <td>Y</td>\n      <td>S-OIL</td>\n      <td>동래구</td>\n    </tr>\n  </tbody>\n</table>\n</div>"
     },
     "execution_count": 14,
     "metadata": {},
     "output_type": "execute_result"
    }
   ],
   "source": [
    "stations_diesel.sort_values(by='경유가격',ascending=False).head(10)\n",
    "stations_gasoline.sort_values(by='휘발유가격',ascending=False).head(10)"
   ],
   "metadata": {
    "collapsed": false,
    "pycharm": {
     "name": "#%%\n"
    }
   }
  },
  {
   "cell_type": "code",
   "execution_count": 16,
   "outputs": [
    {
     "data": {
      "text/plain": "            경유가격\n구               \n강서구  2121.183673\n금정구  2125.000000\n기장군  2104.600000\n남구   2121.068966\n동구   2113.700000",
      "text/html": "<div>\n<style scoped>\n    .dataframe tbody tr th:only-of-type {\n        vertical-align: middle;\n    }\n\n    .dataframe tbody tr th {\n        vertical-align: top;\n    }\n\n    .dataframe thead th {\n        text-align: right;\n    }\n</style>\n<table border=\"1\" class=\"dataframe\">\n  <thead>\n    <tr style=\"text-align: right;\">\n      <th></th>\n      <th>경유가격</th>\n    </tr>\n    <tr>\n      <th>구</th>\n      <th></th>\n    </tr>\n  </thead>\n  <tbody>\n    <tr>\n      <th>강서구</th>\n      <td>2121.183673</td>\n    </tr>\n    <tr>\n      <th>금정구</th>\n      <td>2125.000000</td>\n    </tr>\n    <tr>\n      <th>기장군</th>\n      <td>2104.600000</td>\n    </tr>\n    <tr>\n      <th>남구</th>\n      <td>2121.068966</td>\n    </tr>\n    <tr>\n      <th>동구</th>\n      <td>2113.700000</td>\n    </tr>\n  </tbody>\n</table>\n</div>"
     },
     "execution_count": 16,
     "metadata": {},
     "output_type": "execute_result"
    }
   ],
   "source": [
    "gu_data_disel = pd.pivot_table(stations_diesel,index='구',values='경유가격',aggfunc=np.mean)\n",
    "gu_data_disel.head()"
   ],
   "metadata": {
    "collapsed": false,
    "pycharm": {
     "name": "#%%\n"
    }
   }
  },
  {
   "cell_type": "code",
   "execution_count": 17,
   "outputs": [
    {
     "data": {
      "text/plain": "           휘발유가격\n구               \n강서구  2099.673469\n금정구  2111.000000\n기장군  2096.355556\n남구   2107.931034\n동구   2126.700000",
      "text/html": "<div>\n<style scoped>\n    .dataframe tbody tr th:only-of-type {\n        vertical-align: middle;\n    }\n\n    .dataframe tbody tr th {\n        vertical-align: top;\n    }\n\n    .dataframe thead th {\n        text-align: right;\n    }\n</style>\n<table border=\"1\" class=\"dataframe\">\n  <thead>\n    <tr style=\"text-align: right;\">\n      <th></th>\n      <th>휘발유가격</th>\n    </tr>\n    <tr>\n      <th>구</th>\n      <th></th>\n    </tr>\n  </thead>\n  <tbody>\n    <tr>\n      <th>강서구</th>\n      <td>2099.673469</td>\n    </tr>\n    <tr>\n      <th>금정구</th>\n      <td>2111.000000</td>\n    </tr>\n    <tr>\n      <th>기장군</th>\n      <td>2096.355556</td>\n    </tr>\n    <tr>\n      <th>남구</th>\n      <td>2107.931034</td>\n    </tr>\n    <tr>\n      <th>동구</th>\n      <td>2126.700000</td>\n    </tr>\n  </tbody>\n</table>\n</div>"
     },
     "execution_count": 17,
     "metadata": {},
     "output_type": "execute_result"
    }
   ],
   "source": [
    "gu_data_gasoline = pd.pivot_table(stations_gasoline,index='구',values='휘발유가격',aggfunc=np.mean)\n",
    "gu_data_gasoline.head()"
   ],
   "metadata": {
    "collapsed": false,
    "pycharm": {
     "name": "#%%\n"
    }
   }
  },
  {
   "cell_type": "code",
   "execution_count": 20,
   "outputs": [
    {
     "data": {
      "text/plain": "<folium.folium.Map at 0x1041f6af0>",
      "text/html": "<div style=\"width:100%;\"><div style=\"position:relative;width:100%;height:0;padding-bottom:60%;\"><span style=\"color:#565656\">Make this Notebook Trusted to load map: File -> Trust Notebook</span><iframe srcdoc=\"&lt;!DOCTYPE html&gt;\n&lt;head&gt;    \n    &lt;meta http-equiv=&quot;content-type&quot; content=&quot;text/html; charset=UTF-8&quot; /&gt;\n    \n        &lt;script&gt;\n            L_NO_TOUCH = false;\n            L_DISABLE_3D = false;\n        &lt;/script&gt;\n    \n    &lt;style&gt;html, body {width: 100%;height: 100%;margin: 0;padding: 0;}&lt;/style&gt;\n    &lt;style&gt;#map {position:absolute;top:0;bottom:0;right:0;left:0;}&lt;/style&gt;\n    &lt;script src=&quot;https://cdn.jsdelivr.net/npm/leaflet@1.6.0/dist/leaflet.js&quot;&gt;&lt;/script&gt;\n    &lt;script src=&quot;https://code.jquery.com/jquery-1.12.4.min.js&quot;&gt;&lt;/script&gt;\n    &lt;script src=&quot;https://maxcdn.bootstrapcdn.com/bootstrap/3.2.0/js/bootstrap.min.js&quot;&gt;&lt;/script&gt;\n    &lt;script src=&quot;https://cdnjs.cloudflare.com/ajax/libs/Leaflet.awesome-markers/2.0.2/leaflet.awesome-markers.js&quot;&gt;&lt;/script&gt;\n    &lt;link rel=&quot;stylesheet&quot; href=&quot;https://cdn.jsdelivr.net/npm/leaflet@1.6.0/dist/leaflet.css&quot;/&gt;\n    &lt;link rel=&quot;stylesheet&quot; href=&quot;https://maxcdn.bootstrapcdn.com/bootstrap/3.2.0/css/bootstrap.min.css&quot;/&gt;\n    &lt;link rel=&quot;stylesheet&quot; href=&quot;https://maxcdn.bootstrapcdn.com/bootstrap/3.2.0/css/bootstrap-theme.min.css&quot;/&gt;\n    &lt;link rel=&quot;stylesheet&quot; href=&quot;https://maxcdn.bootstrapcdn.com/font-awesome/4.6.3/css/font-awesome.min.css&quot;/&gt;\n    &lt;link rel=&quot;stylesheet&quot; href=&quot;https://cdnjs.cloudflare.com/ajax/libs/Leaflet.awesome-markers/2.0.2/leaflet.awesome-markers.css&quot;/&gt;\n    &lt;link rel=&quot;stylesheet&quot; href=&quot;https://cdn.jsdelivr.net/gh/python-visualization/folium/folium/templates/leaflet.awesome.rotate.min.css&quot;/&gt;\n    \n            &lt;meta name=&quot;viewport&quot; content=&quot;width=device-width,\n                initial-scale=1.0, maximum-scale=1.0, user-scalable=no&quot; /&gt;\n            &lt;style&gt;\n                #map_8ffb519a6789beec7bca52e31d2aa7e8 {\n                    position: relative;\n                    width: 100.0%;\n                    height: 100.0%;\n                    left: 0.0%;\n                    top: 0.0%;\n                }\n            &lt;/style&gt;\n        \n    &lt;script src=&quot;https://cdnjs.cloudflare.com/ajax/libs/d3/3.5.5/d3.min.js&quot;&gt;&lt;/script&gt;\n&lt;/head&gt;\n&lt;body&gt;    \n    \n            &lt;div class=&quot;folium-map&quot; id=&quot;map_8ffb519a6789beec7bca52e31d2aa7e8&quot; &gt;&lt;/div&gt;\n        \n&lt;/body&gt;\n&lt;script&gt;    \n    \n            var map_8ffb519a6789beec7bca52e31d2aa7e8 = L.map(\n                &quot;map_8ffb519a6789beec7bca52e31d2aa7e8&quot;,\n                {\n                    center: [35.179554, 129.0756416],\n                    crs: L.CRS.EPSG3857,\n                    zoom: 10.5,\n                    zoomControl: true,\n                    preferCanvas: false,\n                }\n            );\n\n            \n\n        \n    \n            var tile_layer_88b9f5fc0e068931aa2311feac296247 = L.tileLayer(\n                &quot;https://stamen-tiles-{s}.a.ssl.fastly.net/toner/{z}/{x}/{y}.png&quot;,\n                {&quot;attribution&quot;: &quot;Map tiles by \\u003ca href=\\&quot;http://stamen.com\\&quot;\\u003eStamen Design\\u003c/a\\u003e, under \\u003ca href=\\&quot;http://creativecommons.org/licenses/by/3.0\\&quot;\\u003eCC BY 3.0\\u003c/a\\u003e. Data by \\u0026copy; \\u003ca href=\\&quot;http://openstreetmap.org\\&quot;\\u003eOpenStreetMap\\u003c/a\\u003e, under \\u003ca href=\\&quot;http://www.openstreetmap.org/copyright\\&quot;\\u003eODbL\\u003c/a\\u003e.&quot;, &quot;detectRetina&quot;: false, &quot;maxNativeZoom&quot;: 18, &quot;maxZoom&quot;: 18, &quot;minZoom&quot;: 0, &quot;noWrap&quot;: false, &quot;opacity&quot;: 1, &quot;subdomains&quot;: &quot;abc&quot;, &quot;tms&quot;: false}\n            ).addTo(map_8ffb519a6789beec7bca52e31d2aa7e8);\n        \n    \n            var choropleth_a7261a15351699b235084e117b48b9ac = L.featureGroup(\n                {}\n            ).addTo(map_8ffb519a6789beec7bca52e31d2aa7e8);\n        \n    \n        function geo_json_02bf385f657361f1ee2d9cab80434f0e_styler(feature) {\n            switch(feature.id) {\n                case &quot;\\uc218\\uc601\\uad6c&quot;: case &quot;\\uac15\\uc11c\\uad6c&quot;: case &quot;\\uae08\\uc815\\uad6c&quot;: case &quot;\\ud574\\uc6b4\\ub300\\uad6c&quot;: case &quot;\\ub0a8\\uad6c&quot;: case &quot;\\ubd80\\uc0b0\\uc9c4\\uad6c&quot;: \n                    return {&quot;color&quot;: &quot;black&quot;, &quot;fillColor&quot;: &quot;#c7e9c0&quot;, &quot;fillOpacity&quot;: 0.6, &quot;opacity&quot;: 1, &quot;weight&quot;: 1};\n                case &quot;\\uc601\\ub3c4\\uad6c&quot;: \n                    return {&quot;color&quot;: &quot;black&quot;, &quot;fillColor&quot;: &quot;#006d2c&quot;, &quot;fillOpacity&quot;: 0.6, &quot;opacity&quot;: 1, &quot;weight&quot;: 1};\n                case &quot;\\uc911\\uad6c&quot;: \n                    return {&quot;color&quot;: &quot;black&quot;, &quot;fillColor&quot;: &quot;#a1d99b&quot;, &quot;fillOpacity&quot;: 0.6, &quot;opacity&quot;: 1, &quot;weight&quot;: 1};\n                default:\n                    return {&quot;color&quot;: &quot;black&quot;, &quot;fillColor&quot;: &quot;#edf8e9&quot;, &quot;fillOpacity&quot;: 0.6, &quot;opacity&quot;: 1, &quot;weight&quot;: 1};\n            }\n        }\n\n        function geo_json_02bf385f657361f1ee2d9cab80434f0e_onEachFeature(feature, layer) {\n            layer.on({\n            });\n        };\n        var geo_json_02bf385f657361f1ee2d9cab80434f0e = L.geoJson(null, {\n                onEachFeature: geo_json_02bf385f657361f1ee2d9cab80434f0e_onEachFeature,\n            \n                style: geo_json_02bf385f657361f1ee2d9cab80434f0e_styler,\n        });\n\n        function geo_json_02bf385f657361f1ee2d9cab80434f0e_add (data) {\n            geo_json_02bf385f657361f1ee2d9cab80434f0e\n                .addData(data)\n                .addTo(choropleth_a7261a15351699b235084e117b48b9ac);\n        }\n            geo_json_02bf385f657361f1ee2d9cab80434f0e_add({&quot;features&quot;: [{&quot;geometry&quot;: {&quot;coordinates&quot;: [[[129.2052495079534, 35.384810829415144], [129.21999816556436, 35.37561304214919], [129.26755198854022, 35.38341226661066], [129.2857909875702, 35.35965182306521], [129.2821380596251, 35.33844963971255], [129.30681468573164, 35.32644771030098], [129.2675569665142, 35.31604143854397], [129.26275266580004, 35.27831941566859], [129.24546065083584, 35.26120427164311], [129.25565431808167, 35.243593230216504], [129.23550974472084, 35.21139611410482], [129.22731336081907, 35.1832196018314], [129.2101963573097, 35.178863012450506], [129.20926574987496, 35.193858050365115], [129.1712609088194, 35.19779178977021], [129.15946955367855, 35.2060010318845], [129.17178499322435, 35.223012034403986], [129.14655608246483, 35.247653331651605], [129.12164255688836, 35.25901943210027], [129.13319938099133, 35.28806061304754], [129.11118519837342, 35.3020008422989], [129.129539414005, 35.34198080167179], [129.1506336662476, 35.36110436695007], [129.17680621659036, 35.3484027015526], [129.19576785879062, 35.35784840037249], [129.2052495079534, 35.384810829415144]]], &quot;type&quot;: &quot;Polygon&quot;}, &quot;id&quot;: &quot;\\uae30\\uc7a5\\uad70&quot;, &quot;properties&quot;: {&quot;base_year&quot;: &quot;2013&quot;, &quot;code&quot;: &quot;21310&quot;, &quot;name&quot;: &quot;\\uae30\\uc7a5\\uad70&quot;, &quot;name_eng&quot;: &quot;Gijang-gun&quot;}, &quot;type&quot;: &quot;Feature&quot;}, {&quot;geometry&quot;: {&quot;coordinates&quot;: [[[129.0234018345164, 35.184671115375444], [129.0119835889874, 35.169869443699376], [129.01820102230758, 35.152628421746215], [129.0135788576788, 35.135103607145254], [129.00022374007818, 35.11946099639376], [128.9820777040685, 35.11366639930547], [128.95913076036766, 35.124219702379115], [128.9636709301795, 35.1363549922296], [128.96426747269928, 35.178900913126405], [128.9904400669661, 35.19415982837314], [129.0234018345164, 35.184671115375444]]], &quot;type&quot;: &quot;Polygon&quot;}, &quot;id&quot;: &quot;\\uc0ac\\uc0c1\\uad6c&quot;, &quot;properties&quot;: {&quot;base_year&quot;: &quot;2013&quot;, &quot;code&quot;: &quot;21150&quot;, &quot;name&quot;: &quot;\\uc0ac\\uc0c1\\uad6c&quot;, &quot;name_eng&quot;: &quot;Sasang-gu&quot;}, &quot;type&quot;: &quot;Feature&quot;}, {&quot;geometry&quot;: {&quot;coordinates&quot;: [[[129.1177825437272, 35.18474986968091], [129.13471990166934, 35.15862391738608], [129.13259078448158, 35.14489993585395], [129.1330126619044, 35.144628480471646], [129.11407531686095, 35.13239055954014], [129.09708740967687, 35.15865712330472], [129.0996874672571, 35.17643982728502], [129.11742196747971, 35.1801022299339], [129.1177825437272, 35.18474986968091]]], &quot;type&quot;: &quot;Polygon&quot;}, &quot;id&quot;: &quot;\\uc218\\uc601\\uad6c&quot;, &quot;properties&quot;: {&quot;base_year&quot;: &quot;2013&quot;, &quot;code&quot;: &quot;21140&quot;, &quot;name&quot;: &quot;\\uc218\\uc601\\uad6c&quot;, &quot;name_eng&quot;: &quot;Suyeong-gu&quot;}, &quot;type&quot;: &quot;Feature&quot;}, {&quot;geometry&quot;: {&quot;coordinates&quot;: [[[129.11742196747971, 35.1801022299339], [129.0996874672571, 35.17643982728502], [129.09708740967687, 35.15865712330472], [129.08519379835508, 35.15515467950786], [129.07485436008184, 35.17641896307744], [129.04994737431633, 35.19112585048916], [129.08258984394146, 35.19618777329709], [129.11742196747971, 35.1801022299339]]], &quot;type&quot;: &quot;Polygon&quot;}, &quot;id&quot;: &quot;\\uc5f0\\uc81c\\uad6c&quot;, &quot;properties&quot;: {&quot;base_year&quot;: &quot;2013&quot;, &quot;code&quot;: &quot;21130&quot;, &quot;name&quot;: &quot;\\uc5f0\\uc81c\\uad6c&quot;, &quot;name_eng&quot;: &quot;Yeonje-gu&quot;}, &quot;type&quot;: &quot;Feature&quot;}, {&quot;geometry&quot;: {&quot;coordinates&quot;: [[[128.9904400669661, 35.19415982837314], [128.96426747269928, 35.178900913126405], [128.9636709301795, 35.1363549922296], [128.95913076036766, 35.124219702379115], [128.93515428134134, 35.107196230446924], [128.92339448893222, 35.08335895052933], [128.9144227043425, 35.07637164789066], [128.8370030920839, 35.07715425463904], [128.85247243637264, 35.04869463049497], [128.85179038327587, 35.03043727294644], [128.83806471052773, 35.009784717820416], [128.80804629953795, 35.017498396072504], [128.81424503248877, 35.03706506604464], [128.79885290346093, 35.05083444037584], [128.82275871368358, 35.057587622102176], [128.83301994431073, 35.06980060489771], [128.82500291365196, 35.09572741741101], [128.84432256870383, 35.103944196538606], [128.8342725962651, 35.126445167398565], [128.8043734876297, 35.138834028483025], [128.7958560372421, 35.153972356796615], [128.84559739230312, 35.154904365922306], [128.8683564387216, 35.16375789693625], [128.8838805854855, 35.17886601768277], [128.8726338499594, 35.19863477797376], [128.88638886816344, 35.21060309846121], [128.92573844127983, 35.212977727602485], [128.99986284283077, 35.231312646551004], [128.9904400669661, 35.19415982837314]]], &quot;type&quot;: &quot;Polygon&quot;}, &quot;id&quot;: &quot;\\uac15\\uc11c\\uad6c&quot;, &quot;properties&quot;: {&quot;base_year&quot;: &quot;2013&quot;, &quot;code&quot;: &quot;21120&quot;, &quot;name&quot;: &quot;\\uac15\\uc11c\\uad6c&quot;, &quot;name_eng&quot;: &quot;Gangseo-gu&quot;}, &quot;type&quot;: &quot;Feature&quot;}, {&quot;geometry&quot;: {&quot;coordinates&quot;: [[[129.05282907958596, 35.27698602567222], [129.0912145467259, 35.30000060706805], [129.11118519837342, 35.3020008422989], [129.13319938099133, 35.28806061304754], [129.12164255688836, 35.25901943210027], [129.14655608246483, 35.247653331651605], [129.11230628758815, 35.20703612721303], [129.07996846697185, 35.223190926035926], [129.06246127125198, 35.22314656458455], [129.0480039386153, 35.23026788935419], [129.05282907958596, 35.27698602567222]]], &quot;type&quot;: &quot;Polygon&quot;}, &quot;id&quot;: &quot;\\uae08\\uc815\\uad6c&quot;, &quot;properties&quot;: {&quot;base_year&quot;: &quot;2013&quot;, &quot;code&quot;: &quot;21110&quot;, &quot;name&quot;: &quot;\\uae08\\uc815\\uad6c&quot;, &quot;name_eng&quot;: &quot;Geumjeong-gu&quot;}, &quot;type&quot;: &quot;Feature&quot;}, {&quot;geometry&quot;: {&quot;coordinates&quot;: [[[129.00022374007818, 35.11946099639376], [129.01640565970172, 35.090574508247194], [129.00669618115077, 35.075352708596135], [129.00355071666198, 35.045119629348555], [128.9843930332529, 35.044665657334356], [128.96921882636354, 35.030178209294], [128.95315522216924, 35.07492543907081], [128.92339448893222, 35.08335895052933], [128.93515428134134, 35.107196230446924], [128.95913076036766, 35.124219702379115], [128.9820777040685, 35.11366639930547], [129.00022374007818, 35.11946099639376]]], &quot;type&quot;: &quot;Polygon&quot;}, &quot;id&quot;: &quot;\\uc0ac\\ud558\\uad6c&quot;, &quot;properties&quot;: {&quot;base_year&quot;: &quot;2013&quot;, &quot;code&quot;: &quot;21100&quot;, &quot;name&quot;: &quot;\\uc0ac\\ud558\\uad6c&quot;, &quot;name_eng&quot;: &quot;Saha-gu&quot;}, &quot;type&quot;: &quot;Feature&quot;}, {&quot;geometry&quot;: {&quot;coordinates&quot;: [[[129.11230628758815, 35.20703612721303], [129.14655608246483, 35.247653331651605], [129.17178499322435, 35.223012034403986], [129.15946955367855, 35.2060010318845], [129.1712609088194, 35.19779178977021], [129.20926574987496, 35.193858050365115], [129.2101963573097, 35.178863012450506], [129.19648542084465, 35.15813806486568], [129.13960138849424, 35.15372074477251], [129.1330126619044, 35.144628480471646], [129.13259078448158, 35.14489993585395], [129.13471990166934, 35.15862391738608], [129.1177825437272, 35.18474986968091], [129.11230628758815, 35.20703612721303]]], &quot;type&quot;: &quot;Polygon&quot;}, &quot;id&quot;: &quot;\\ud574\\uc6b4\\ub300\\uad6c&quot;, &quot;properties&quot;: {&quot;base_year&quot;: &quot;2013&quot;, &quot;code&quot;: &quot;21090&quot;, &quot;name&quot;: &quot;\\ud574\\uc6b4\\ub300\\uad6c&quot;, &quot;name_eng&quot;: &quot;Haeundae-gu&quot;}, &quot;type&quot;: &quot;Feature&quot;}, {&quot;geometry&quot;: {&quot;coordinates&quot;: [[[129.01486888917074, 35.2702075133084], [129.05282907958596, 35.27698602567222], [129.0480039386153, 35.23026788935419], [129.06246127125198, 35.22314656458455], [129.04612823614372, 35.195308829813435], [129.0234018345164, 35.184671115375444], [128.9904400669661, 35.19415982837314], [128.99986284283077, 35.231312646551004], [129.01486888917074, 35.2702075133084]]], &quot;type&quot;: &quot;Polygon&quot;}, &quot;id&quot;: &quot;\\ubd81\\uad6c&quot;, &quot;properties&quot;: {&quot;base_year&quot;: &quot;2013&quot;, &quot;code&quot;: &quot;21080&quot;, &quot;name&quot;: &quot;\\ubd81\\uad6c&quot;, &quot;name_eng&quot;: &quot;Buk-gu&quot;}, &quot;type&quot;: &quot;Feature&quot;}, {&quot;geometry&quot;: {&quot;coordinates&quot;: [[[129.08519379835508, 35.15515467950786], [129.09708740967687, 35.15865712330472], [129.11407531686095, 35.13239055954014], [129.13019209606375, 35.107152459159536], [129.12452049156587, 35.09674384852429], [129.09685908547226, 35.096035124501526], [129.06945895613262, 35.10460468702412], [129.0675602062386, 35.12653631124606], [129.06674419740062, 35.13830687046097], [129.08519379835508, 35.15515467950786]]], &quot;type&quot;: &quot;Polygon&quot;}, &quot;id&quot;: &quot;\\ub0a8\\uad6c&quot;, &quot;properties&quot;: {&quot;base_year&quot;: &quot;2013&quot;, &quot;code&quot;: &quot;21070&quot;, &quot;name&quot;: &quot;\\ub0a8\\uad6c&quot;, &quot;name_eng&quot;: &quot;Nam-gu&quot;}, &quot;type&quot;: &quot;Feature&quot;}, {&quot;geometry&quot;: {&quot;coordinates&quot;: [[[129.06246127125198, 35.22314656458455], [129.07996846697185, 35.223190926035926], [129.11230628758815, 35.20703612721303], [129.1177825437272, 35.18474986968091], [129.11742196747971, 35.1801022299339], [129.08258984394146, 35.19618777329709], [129.04994737431633, 35.19112585048916], [129.04612823614372, 35.195308829813435], [129.06246127125198, 35.22314656458455]]], &quot;type&quot;: &quot;Polygon&quot;}, &quot;id&quot;: &quot;\\ub3d9\\ub798\\uad6c&quot;, &quot;properties&quot;: {&quot;base_year&quot;: &quot;2013&quot;, &quot;code&quot;: &quot;21060&quot;, &quot;name&quot;: &quot;\\ub3d9\\ub798\\uad6c&quot;, &quot;name_eng&quot;: &quot;Dongnae-gu&quot;}, &quot;type&quot;: &quot;Feature&quot;}, {&quot;geometry&quot;: {&quot;coordinates&quot;: [[[129.04612823614372, 35.195308829813435], [129.04994737431633, 35.19112585048916], [129.07485436008184, 35.17641896307744], [129.08519379835508, 35.15515467950786], [129.06674419740062, 35.13830687046097], [129.04315261670314, 35.1429786438269], [129.02637806857228, 35.13093674587345], [129.0135788576788, 35.135103607145254], [129.01820102230758, 35.152628421746215], [129.0119835889874, 35.169869443699376], [129.0234018345164, 35.184671115375444], [129.04612823614372, 35.195308829813435]]], &quot;type&quot;: &quot;Polygon&quot;}, &quot;id&quot;: &quot;\\ubd80\\uc0b0\\uc9c4\\uad6c&quot;, &quot;properties&quot;: {&quot;base_year&quot;: &quot;2013&quot;, &quot;code&quot;: &quot;21050&quot;, &quot;name&quot;: &quot;\\ubd80\\uc0b0\\uc9c4\\uad6c&quot;, &quot;name_eng&quot;: &quot;Busanjin-gu&quot;}, &quot;type&quot;: &quot;Feature&quot;}, {&quot;geometry&quot;: {&quot;coordinates&quot;: [[[129.04176289485272, 35.09213468827581], [129.0568995368996, 35.09762864146938], [129.0810981432519, 35.08193562798648], [129.0854307766472, 35.047183403724155], [129.03706484050707, 35.08196799770966], [129.03892771410605, 35.091573848449414], [129.0391831066138, 35.09163306953136], [129.04156035276466, 35.092009945814276], [129.04176289485272, 35.09213468827581]]], &quot;type&quot;: &quot;Polygon&quot;}, &quot;id&quot;: &quot;\\uc601\\ub3c4\\uad6c&quot;, &quot;properties&quot;: {&quot;base_year&quot;: &quot;2013&quot;, &quot;code&quot;: &quot;21040&quot;, &quot;name&quot;: &quot;\\uc601\\ub3c4\\uad6c&quot;, &quot;name_eng&quot;: &quot;Yeongdo-gu&quot;}, &quot;type&quot;: &quot;Feature&quot;}, {&quot;geometry&quot;: {&quot;coordinates&quot;: [[[129.02637806857228, 35.13093674587345], [129.04315261670314, 35.1429786438269], [129.06674419740062, 35.13830687046097], [129.0675602062386, 35.12653631124606], [129.04498890939823, 35.107633456000144], [129.02839087145753, 35.11368972340287], [129.02637806857228, 35.13093674587345]]], &quot;type&quot;: &quot;Polygon&quot;}, &quot;id&quot;: &quot;\\ub3d9\\uad6c&quot;, &quot;properties&quot;: {&quot;base_year&quot;: &quot;2013&quot;, &quot;code&quot;: &quot;21030&quot;, &quot;name&quot;: &quot;\\ub3d9\\uad6c&quot;, &quot;name_eng&quot;: &quot;Dong-gu&quot;}, &quot;type&quot;: &quot;Feature&quot;}, {&quot;geometry&quot;: {&quot;coordinates&quot;: [[[129.0135788576788, 35.135103607145254], [129.02637806857228, 35.13093674587345], [129.02839087145753, 35.11368972340287], [129.02846842291876, 35.0925886830201], [129.0245343696217, 35.05924689977173], [129.00669618115077, 35.075352708596135], [129.01640565970172, 35.090574508247194], [129.00022374007818, 35.11946099639376], [129.0135788576788, 35.135103607145254]]], &quot;type&quot;: &quot;Polygon&quot;}, &quot;id&quot;: &quot;\\uc11c\\uad6c&quot;, &quot;properties&quot;: {&quot;base_year&quot;: &quot;2013&quot;, &quot;code&quot;: &quot;21020&quot;, &quot;name&quot;: &quot;\\uc11c\\uad6c&quot;, &quot;name_eng&quot;: &quot;Seo-gu&quot;}, &quot;type&quot;: &quot;Feature&quot;}, {&quot;geometry&quot;: {&quot;coordinates&quot;: [[[129.02839087145753, 35.11368972340287], [129.04498890939823, 35.107633456000144], [129.04176289485272, 35.09213468827581], [129.04156035276466, 35.092009945814276], [129.0391831066138, 35.09163306953136], [129.03892771410605, 35.091573848449414], [129.02846842291876, 35.0925886830201], [129.02839087145753, 35.11368972340287]]], &quot;type&quot;: &quot;Polygon&quot;}, &quot;id&quot;: &quot;\\uc911\\uad6c&quot;, &quot;properties&quot;: {&quot;base_year&quot;: &quot;2013&quot;, &quot;code&quot;: &quot;21010&quot;, &quot;name&quot;: &quot;\\uc911\\uad6c&quot;, &quot;name_eng&quot;: &quot;Jung-gu&quot;}, &quot;type&quot;: &quot;Feature&quot;}], &quot;type&quot;: &quot;FeatureCollection&quot;});\n\n        \n    \n    var color_map_128a476561f663ec5fe40807a99eba9e = {};\n\n    \n    color_map_128a476561f663ec5fe40807a99eba9e.color = d3.scale.threshold()\n              .domain([2093.5, 2093.7775551102204, 2094.055110220441, 2094.3326653306613, 2094.6102204408817, 2094.887775551102, 2095.1653306613225, 2095.442885771543, 2095.7204408817634, 2095.9979959919838, 2096.275551102204, 2096.553106212425, 2096.8306613226455, 2097.108216432866, 2097.3857715430863, 2097.6633266533067, 2097.940881763527, 2098.2184368737476, 2098.495991983968, 2098.7735470941884, 2099.051102204409, 2099.3286573146293, 2099.6062124248497, 2099.88376753507, 2100.1613226452905, 2100.438877755511, 2100.7164328657313, 2100.9939879759518, 2101.271543086172, 2101.5490981963926, 2101.826653306613, 2102.1042084168334, 2102.3817635270543, 2102.6593186372747, 2102.936873747495, 2103.2144288577156, 2103.491983967936, 2103.7695390781564, 2104.047094188377, 2104.3246492985973, 2104.6022044088177, 2104.879759519038, 2105.1573146292585, 2105.434869739479, 2105.7124248496993, 2105.9899799599198, 2106.26753507014, 2106.5450901803606, 2106.822645290581, 2107.1002004008014, 2107.377755511022, 2107.6553106212423, 2107.9328657314627, 2108.2104208416836, 2108.487975951904, 2108.7655310621244, 2109.043086172345, 2109.3206412825652, 2109.5981963927857, 2109.875751503006, 2110.1533066132265, 2110.430861723447, 2110.7084168336673, 2110.9859719438878, 2111.263527054108, 2111.5410821643286, 2111.818637274549, 2112.0961923847694, 2112.37374749499, 2112.6513026052103, 2112.9288577154307, 2113.206412825651, 2113.4839679358715, 2113.7615230460924, 2114.039078156313, 2114.3166332665332, 2114.5941883767537, 2114.871743486974, 2115.1492985971945, 2115.426853707415, 2115.7044088176353, 2115.9819639278558, 2116.259519038076, 2116.5370741482966, 2116.814629258517, 2117.0921843687374, 2117.369739478958, 2117.6472945891783, 2117.9248496993987, 2118.202404809619, 2118.4799599198395, 2118.75751503006, 2119.0350701402804, 2119.312625250501, 2119.5901803607217, 2119.867735470942, 2120.1452905811625, 2120.422845691383, 2120.7004008016033, 2120.9779559118238, 2121.255511022044, 2121.5330661322646, 2121.810621242485, 2122.0881763527054, 2122.365731462926, 2122.6432865731463, 2122.9208416833667, 2123.198396793587, 2123.4759519038075, 2123.753507014028, 2124.0310621242484, 2124.308617234469, 2124.586172344689, 2124.8637274549096, 2125.14128256513, 2125.418837675351, 2125.6963927855713, 2125.9739478957918, 2126.251503006012, 2126.5290581162326, 2126.806613226453, 2127.0841683366734, 2127.361723446894, 2127.6392785571143, 2127.9168336673347, 2128.194388777555, 2128.4719438877755, 2128.749498997996, 2129.0270541082164, 2129.304609218437, 2129.582164328657, 2129.8597194388776, 2130.137274549098, 2130.4148296593185, 2130.692384769539, 2130.9699398797593, 2131.24749498998, 2131.5250501002006, 2131.802605210421, 2132.0801603206414, 2132.357715430862, 2132.6352705410823, 2132.9128256513027, 2133.190380761523, 2133.4679358717435, 2133.745490981964, 2134.0230460921844, 2134.300601202405, 2134.578156312625, 2134.8557114228456, 2135.133266533066, 2135.4108216432865, 2135.688376753507, 2135.9659318637273, 2136.2434869739477, 2136.521042084168, 2136.798597194389, 2137.0761523046094, 2137.35370741483, 2137.6312625250503, 2137.9088176352707, 2138.186372745491, 2138.4639278557115, 2138.741482965932, 2139.0190380761524, 2139.296593186373, 2139.574148296593, 2139.8517034068136, 2140.129258517034, 2140.4068136272545, 2140.684368737475, 2140.9619238476953, 2141.2394789579157, 2141.517034068136, 2141.7945891783565, 2142.072144288577, 2142.3496993987974, 2142.6272545090183, 2142.9048096192387, 2143.182364729459, 2143.4599198396795, 2143.7374749499, 2144.0150300601204, 2144.2925851703408, 2144.570140280561, 2144.8476953907816, 2145.125250501002, 2145.4028056112224, 2145.680360721443, 2145.9579158316633, 2146.2354709418837, 2146.513026052104, 2146.7905811623245, 2147.068136272545, 2147.3456913827654, 2147.623246492986, 2147.900801603206, 2148.1783567134266, 2148.4559118236475, 2148.733466933868, 2149.0110220440883, 2149.2885771543088, 2149.566132264529, 2149.8436873747496, 2150.12124248497, 2150.3987975951904, 2150.676352705411, 2150.9539078156313, 2151.2314629258517, 2151.509018036072, 2151.7865731462925, 2152.064128256513, 2152.3416833667334, 2152.619238476954, 2152.896793587174, 2153.1743486973946, 2153.451903807615, 2153.7294589178355, 2154.007014028056, 2154.2845691382768, 2154.562124248497, 2154.8396793587176, 2155.117234468938, 2155.3947895791584, 2155.672344689379, 2155.9498997995993, 2156.2274549098197, 2156.50501002004, 2156.7825651302605, 2157.060120240481, 2157.3376753507014, 2157.615230460922, 2157.892785571142, 2158.1703406813626, 2158.447895791583, 2158.7254509018035, 2159.003006012024, 2159.2805611222443, 2159.5581162324647, 2159.8356713426856, 2160.113226452906, 2160.3907815631264, 2160.668336673347, 2160.9458917835673, 2161.2234468937877, 2161.501002004008, 2161.7785571142285, 2162.056112224449, 2162.3336673346694, 2162.61122244489, 2162.88877755511, 2163.1663326653306, 2163.443887775551, 2163.7214428857715, 2163.998997995992, 2164.2765531062123, 2164.5541082164327, 2164.831663326653, 2165.1092184368736, 2165.386773547094, 2165.6643286573144, 2165.9418837675353, 2166.2194388777557, 2166.496993987976, 2166.7745490981965, 2167.052104208417, 2167.3296593186374, 2167.607214428858, 2167.884769539078, 2168.1623246492986, 2168.439879759519, 2168.7174348697395, 2168.99498997996, 2169.2725450901803, 2169.5501002004007, 2169.827655310621, 2170.1052104208416, 2170.382765531062, 2170.6603206412824, 2170.937875751503, 2171.2154308617232, 2171.492985971944, 2171.7705410821645, 2172.048096192385, 2172.3256513026054, 2172.603206412826, 2172.880761523046, 2173.1583166332666, 2173.435871743487, 2173.7134268537075, 2173.990981963928, 2174.2685370741483, 2174.5460921843687, 2174.823647294589, 2175.1012024048096, 2175.37875751503, 2175.6563126252504, 2175.933867735471, 2176.2114228456912, 2176.4889779559117, 2176.766533066132, 2177.0440881763525, 2177.3216432865734, 2177.599198396794, 2177.876753507014, 2178.1543086172346, 2178.431863727455, 2178.7094188376755, 2178.986973947896, 2179.2645290581163, 2179.5420841683367, 2179.819639278557, 2180.0971943887776, 2180.374749498998, 2180.6523046092184, 2180.929859719439, 2181.2074148296592, 2181.4849699398796, 2181.7625250501, 2182.0400801603205, 2182.317635270541, 2182.5951903807613, 2182.872745490982, 2183.1503006012026, 2183.427855711423, 2183.7054108216435, 2183.982965931864, 2184.2605210420843, 2184.5380761523047, 2184.815631262525, 2185.0931863727455, 2185.370741482966, 2185.6482965931864, 2185.925851703407, 2186.203406813627, 2186.4809619238476, 2186.758517034068, 2187.0360721442885, 2187.313627254509, 2187.5911823647293, 2187.8687374749497, 2188.14629258517, 2188.4238476953906, 2188.701402805611, 2188.978957915832, 2189.2565130260523, 2189.5340681362727, 2189.811623246493, 2190.0891783567135, 2190.366733466934, 2190.6442885771544, 2190.921843687375, 2191.199398797595, 2191.4769539078156, 2191.754509018036, 2192.0320641282565, 2192.309619238477, 2192.5871743486973, 2192.8647294589177, 2193.142284569138, 2193.4198396793586, 2193.697394789579, 2193.9749498997994, 2194.25250501002, 2194.5300601202407, 2194.807615230461, 2195.0851703406815, 2195.362725450902, 2195.6402805611224, 2195.917835671343, 2196.195390781563, 2196.4729458917836, 2196.750501002004, 2197.0280561122245, 2197.305611222445, 2197.5831663326653, 2197.8607214428857, 2198.138276553106, 2198.4158316633266, 2198.693386773547, 2198.9709418837674, 2199.248496993988, 2199.5260521042082, 2199.8036072144287, 2200.081162324649, 2200.35871743487, 2200.6362725450904, 2200.913827655311, 2201.191382765531, 2201.4689378757516, 2201.746492985972, 2202.0240480961925, 2202.301603206413, 2202.5791583166333, 2202.8567134268537, 2203.134268537074, 2203.4118236472946, 2203.689378757515, 2203.9669338677354, 2204.244488977956, 2204.5220440881762, 2204.7995991983967, 2205.077154308617, 2205.3547094188375, 2205.632264529058, 2205.9098196392783, 2206.187374749499, 2206.4649298597196, 2206.74248496994, 2207.0200400801605, 2207.297595190381, 2207.5751503006013, 2207.8527054108217, 2208.130260521042, 2208.4078156312626, 2208.685370741483, 2208.9629258517034, 2209.240480961924, 2209.5180360721442, 2209.7955911823647, 2210.073146292585, 2210.3507014028055, 2210.628256513026, 2210.9058116232463, 2211.1833667334668, 2211.460921843687, 2211.7384769539076, 2212.0160320641285, 2212.293587174349, 2212.5711422845693, 2212.8486973947897, 2213.12625250501, 2213.4038076152306, 2213.681362725451, 2213.9589178356714, 2214.236472945892, 2214.5140280561122, 2214.7915831663327, 2215.069138276553, 2215.3466933867735, 2215.624248496994, 2215.9018036072143, 2216.1793587174348, 2216.456913827655, 2216.7344689378756, 2217.012024048096, 2217.2895791583164, 2217.5671342685373, 2217.8446893787577, 2218.122244488978, 2218.3997995991986, 2218.677354709419, 2218.9549098196394, 2219.23246492986, 2219.5100200400802, 2219.7875751503007, 2220.065130260521, 2220.3426853707415, 2220.620240480962, 2220.8977955911823, 2221.1753507014027, 2221.452905811623, 2221.7304609218436, 2222.008016032064, 2222.2855711422844, 2222.563126252505, 2222.8406813627253, 2223.1182364729457, 2223.395791583166, 2223.673346693387, 2223.9509018036074, 2224.228456913828, 2224.5060120240482, 2224.7835671342687, 2225.061122244489, 2225.3386773547095, 2225.61623246493, 2225.8937875751503, 2226.1713426853707, 2226.448897795591, 2226.7264529058116, 2227.004008016032, 2227.2815631262524, 2227.559118236473, 2227.8366733466933, 2228.1142284569137, 2228.391783567134, 2228.6693386773545, 2228.9468937875754, 2229.224448897796, 2229.5020040080162, 2229.7795591182366, 2230.057114228457, 2230.3346693386775, 2230.612224448898, 2230.8897795591183, 2231.1673346693387, 2231.444889779559, 2231.7224448897796, 2232.0])\n              .range([&#x27;#edf8e9ff&#x27;, &#x27;#edf8e9ff&#x27;, &#x27;#edf8e9ff&#x27;, &#x27;#edf8e9ff&#x27;, &#x27;#edf8e9ff&#x27;, &#x27;#edf8e9ff&#x27;, &#x27;#edf8e9ff&#x27;, &#x27;#edf8e9ff&#x27;, &#x27;#edf8e9ff&#x27;, &#x27;#edf8e9ff&#x27;, &#x27;#edf8e9ff&#x27;, &#x27;#edf8e9ff&#x27;, &#x27;#edf8e9ff&#x27;, &#x27;#edf8e9ff&#x27;, &#x27;#edf8e9ff&#x27;, &#x27;#edf8e9ff&#x27;, &#x27;#edf8e9ff&#x27;, &#x27;#edf8e9ff&#x27;, &#x27;#edf8e9ff&#x27;, &#x27;#edf8e9ff&#x27;, &#x27;#edf8e9ff&#x27;, &#x27;#edf8e9ff&#x27;, &#x27;#edf8e9ff&#x27;, &#x27;#edf8e9ff&#x27;, &#x27;#edf8e9ff&#x27;, &#x27;#edf8e9ff&#x27;, &#x27;#edf8e9ff&#x27;, &#x27;#edf8e9ff&#x27;, &#x27;#edf8e9ff&#x27;, &#x27;#edf8e9ff&#x27;, &#x27;#edf8e9ff&#x27;, &#x27;#edf8e9ff&#x27;, &#x27;#edf8e9ff&#x27;, &#x27;#edf8e9ff&#x27;, &#x27;#edf8e9ff&#x27;, &#x27;#edf8e9ff&#x27;, &#x27;#edf8e9ff&#x27;, &#x27;#edf8e9ff&#x27;, &#x27;#edf8e9ff&#x27;, &#x27;#edf8e9ff&#x27;, &#x27;#edf8e9ff&#x27;, &#x27;#edf8e9ff&#x27;, &#x27;#edf8e9ff&#x27;, &#x27;#edf8e9ff&#x27;, &#x27;#edf8e9ff&#x27;, &#x27;#edf8e9ff&#x27;, &#x27;#edf8e9ff&#x27;, &#x27;#edf8e9ff&#x27;, &#x27;#edf8e9ff&#x27;, &#x27;#edf8e9ff&#x27;, &#x27;#edf8e9ff&#x27;, &#x27;#edf8e9ff&#x27;, &#x27;#edf8e9ff&#x27;, &#x27;#edf8e9ff&#x27;, &#x27;#edf8e9ff&#x27;, &#x27;#edf8e9ff&#x27;, &#x27;#edf8e9ff&#x27;, &#x27;#edf8e9ff&#x27;, &#x27;#edf8e9ff&#x27;, &#x27;#edf8e9ff&#x27;, &#x27;#edf8e9ff&#x27;, &#x27;#edf8e9ff&#x27;, &#x27;#edf8e9ff&#x27;, &#x27;#edf8e9ff&#x27;, &#x27;#edf8e9ff&#x27;, &#x27;#edf8e9ff&#x27;, &#x27;#edf8e9ff&#x27;, &#x27;#edf8e9ff&#x27;, &#x27;#edf8e9ff&#x27;, &#x27;#edf8e9ff&#x27;, &#x27;#edf8e9ff&#x27;, &#x27;#edf8e9ff&#x27;, &#x27;#edf8e9ff&#x27;, &#x27;#edf8e9ff&#x27;, &#x27;#edf8e9ff&#x27;, &#x27;#edf8e9ff&#x27;, &#x27;#edf8e9ff&#x27;, &#x27;#edf8e9ff&#x27;, &#x27;#edf8e9ff&#x27;, &#x27;#edf8e9ff&#x27;, &#x27;#edf8e9ff&#x27;, &#x27;#edf8e9ff&#x27;, &#x27;#edf8e9ff&#x27;, &#x27;#edf8e9ff&#x27;, &#x27;#c7e9c0ff&#x27;, &#x27;#c7e9c0ff&#x27;, &#x27;#c7e9c0ff&#x27;, &#x27;#c7e9c0ff&#x27;, &#x27;#c7e9c0ff&#x27;, &#x27;#c7e9c0ff&#x27;, &#x27;#c7e9c0ff&#x27;, &#x27;#c7e9c0ff&#x27;, &#x27;#c7e9c0ff&#x27;, &#x27;#c7e9c0ff&#x27;, &#x27;#c7e9c0ff&#x27;, &#x27;#c7e9c0ff&#x27;, &#x27;#c7e9c0ff&#x27;, &#x27;#c7e9c0ff&#x27;, &#x27;#c7e9c0ff&#x27;, &#x27;#c7e9c0ff&#x27;, &#x27;#c7e9c0ff&#x27;, &#x27;#c7e9c0ff&#x27;, &#x27;#c7e9c0ff&#x27;, &#x27;#c7e9c0ff&#x27;, &#x27;#c7e9c0ff&#x27;, &#x27;#c7e9c0ff&#x27;, &#x27;#c7e9c0ff&#x27;, &#x27;#c7e9c0ff&#x27;, &#x27;#c7e9c0ff&#x27;, &#x27;#c7e9c0ff&#x27;, &#x27;#c7e9c0ff&#x27;, &#x27;#c7e9c0ff&#x27;, &#x27;#c7e9c0ff&#x27;, &#x27;#c7e9c0ff&#x27;, &#x27;#c7e9c0ff&#x27;, &#x27;#c7e9c0ff&#x27;, &#x27;#c7e9c0ff&#x27;, &#x27;#c7e9c0ff&#x27;, &#x27;#c7e9c0ff&#x27;, &#x27;#c7e9c0ff&#x27;, &#x27;#c7e9c0ff&#x27;, &#x27;#c7e9c0ff&#x27;, &#x27;#c7e9c0ff&#x27;, &#x27;#c7e9c0ff&#x27;, &#x27;#c7e9c0ff&#x27;, &#x27;#c7e9c0ff&#x27;, &#x27;#c7e9c0ff&#x27;, &#x27;#c7e9c0ff&#x27;, &#x27;#c7e9c0ff&#x27;, &#x27;#c7e9c0ff&#x27;, &#x27;#c7e9c0ff&#x27;, &#x27;#c7e9c0ff&#x27;, &#x27;#c7e9c0ff&#x27;, &#x27;#c7e9c0ff&#x27;, &#x27;#c7e9c0ff&#x27;, &#x27;#c7e9c0ff&#x27;, &#x27;#c7e9c0ff&#x27;, &#x27;#c7e9c0ff&#x27;, &#x27;#c7e9c0ff&#x27;, &#x27;#c7e9c0ff&#x27;, &#x27;#c7e9c0ff&#x27;, &#x27;#c7e9c0ff&#x27;, &#x27;#c7e9c0ff&#x27;, &#x27;#c7e9c0ff&#x27;, &#x27;#c7e9c0ff&#x27;, &#x27;#c7e9c0ff&#x27;, &#x27;#c7e9c0ff&#x27;, &#x27;#c7e9c0ff&#x27;, &#x27;#c7e9c0ff&#x27;, &#x27;#c7e9c0ff&#x27;, &#x27;#c7e9c0ff&#x27;, &#x27;#c7e9c0ff&#x27;, &#x27;#c7e9c0ff&#x27;, &#x27;#c7e9c0ff&#x27;, &#x27;#c7e9c0ff&#x27;, &#x27;#c7e9c0ff&#x27;, &#x27;#c7e9c0ff&#x27;, &#x27;#c7e9c0ff&#x27;, &#x27;#c7e9c0ff&#x27;, &#x27;#c7e9c0ff&#x27;, &#x27;#c7e9c0ff&#x27;, &#x27;#c7e9c0ff&#x27;, &#x27;#c7e9c0ff&#x27;, &#x27;#c7e9c0ff&#x27;, &#x27;#c7e9c0ff&#x27;, &#x27;#c7e9c0ff&#x27;, &#x27;#c7e9c0ff&#x27;, &#x27;#a1d99bff&#x27;, &#x27;#a1d99bff&#x27;, &#x27;#a1d99bff&#x27;, &#x27;#a1d99bff&#x27;, &#x27;#a1d99bff&#x27;, &#x27;#a1d99bff&#x27;, &#x27;#a1d99bff&#x27;, &#x27;#a1d99bff&#x27;, &#x27;#a1d99bff&#x27;, &#x27;#a1d99bff&#x27;, &#x27;#a1d99bff&#x27;, &#x27;#a1d99bff&#x27;, &#x27;#a1d99bff&#x27;, &#x27;#a1d99bff&#x27;, &#x27;#a1d99bff&#x27;, &#x27;#a1d99bff&#x27;, &#x27;#a1d99bff&#x27;, &#x27;#a1d99bff&#x27;, &#x27;#a1d99bff&#x27;, &#x27;#a1d99bff&#x27;, &#x27;#a1d99bff&#x27;, &#x27;#a1d99bff&#x27;, &#x27;#a1d99bff&#x27;, &#x27;#a1d99bff&#x27;, &#x27;#a1d99bff&#x27;, &#x27;#a1d99bff&#x27;, &#x27;#a1d99bff&#x27;, &#x27;#a1d99bff&#x27;, &#x27;#a1d99bff&#x27;, &#x27;#a1d99bff&#x27;, &#x27;#a1d99bff&#x27;, &#x27;#a1d99bff&#x27;, &#x27;#a1d99bff&#x27;, &#x27;#a1d99bff&#x27;, &#x27;#a1d99bff&#x27;, &#x27;#a1d99bff&#x27;, &#x27;#a1d99bff&#x27;, &#x27;#a1d99bff&#x27;, &#x27;#a1d99bff&#x27;, &#x27;#a1d99bff&#x27;, &#x27;#a1d99bff&#x27;, &#x27;#a1d99bff&#x27;, &#x27;#a1d99bff&#x27;, &#x27;#a1d99bff&#x27;, &#x27;#a1d99bff&#x27;, &#x27;#a1d99bff&#x27;, &#x27;#a1d99bff&#x27;, &#x27;#a1d99bff&#x27;, &#x27;#a1d99bff&#x27;, &#x27;#a1d99bff&#x27;, &#x27;#a1d99bff&#x27;, &#x27;#a1d99bff&#x27;, &#x27;#a1d99bff&#x27;, &#x27;#a1d99bff&#x27;, &#x27;#a1d99bff&#x27;, &#x27;#a1d99bff&#x27;, &#x27;#a1d99bff&#x27;, &#x27;#a1d99bff&#x27;, &#x27;#a1d99bff&#x27;, &#x27;#a1d99bff&#x27;, &#x27;#a1d99bff&#x27;, &#x27;#a1d99bff&#x27;, &#x27;#a1d99bff&#x27;, &#x27;#a1d99bff&#x27;, &#x27;#a1d99bff&#x27;, &#x27;#a1d99bff&#x27;, &#x27;#a1d99bff&#x27;, &#x27;#a1d99bff&#x27;, &#x27;#a1d99bff&#x27;, &#x27;#a1d99bff&#x27;, &#x27;#a1d99bff&#x27;, &#x27;#a1d99bff&#x27;, &#x27;#a1d99bff&#x27;, &#x27;#a1d99bff&#x27;, &#x27;#a1d99bff&#x27;, &#x27;#a1d99bff&#x27;, &#x27;#a1d99bff&#x27;, &#x27;#a1d99bff&#x27;, &#x27;#a1d99bff&#x27;, &#x27;#a1d99bff&#x27;, &#x27;#a1d99bff&#x27;, &#x27;#a1d99bff&#x27;, &#x27;#a1d99bff&#x27;, &#x27;#74c476ff&#x27;, &#x27;#74c476ff&#x27;, &#x27;#74c476ff&#x27;, &#x27;#74c476ff&#x27;, &#x27;#74c476ff&#x27;, &#x27;#74c476ff&#x27;, &#x27;#74c476ff&#x27;, &#x27;#74c476ff&#x27;, &#x27;#74c476ff&#x27;, &#x27;#74c476ff&#x27;, &#x27;#74c476ff&#x27;, &#x27;#74c476ff&#x27;, &#x27;#74c476ff&#x27;, &#x27;#74c476ff&#x27;, &#x27;#74c476ff&#x27;, &#x27;#74c476ff&#x27;, &#x27;#74c476ff&#x27;, &#x27;#74c476ff&#x27;, &#x27;#74c476ff&#x27;, &#x27;#74c476ff&#x27;, &#x27;#74c476ff&#x27;, &#x27;#74c476ff&#x27;, &#x27;#74c476ff&#x27;, &#x27;#74c476ff&#x27;, &#x27;#74c476ff&#x27;, &#x27;#74c476ff&#x27;, &#x27;#74c476ff&#x27;, &#x27;#74c476ff&#x27;, &#x27;#74c476ff&#x27;, &#x27;#74c476ff&#x27;, &#x27;#74c476ff&#x27;, &#x27;#74c476ff&#x27;, &#x27;#74c476ff&#x27;, &#x27;#74c476ff&#x27;, &#x27;#74c476ff&#x27;, &#x27;#74c476ff&#x27;, &#x27;#74c476ff&#x27;, &#x27;#74c476ff&#x27;, &#x27;#74c476ff&#x27;, &#x27;#74c476ff&#x27;, &#x27;#74c476ff&#x27;, &#x27;#74c476ff&#x27;, &#x27;#74c476ff&#x27;, &#x27;#74c476ff&#x27;, &#x27;#74c476ff&#x27;, &#x27;#74c476ff&#x27;, &#x27;#74c476ff&#x27;, &#x27;#74c476ff&#x27;, &#x27;#74c476ff&#x27;, &#x27;#74c476ff&#x27;, &#x27;#74c476ff&#x27;, &#x27;#74c476ff&#x27;, &#x27;#74c476ff&#x27;, &#x27;#74c476ff&#x27;, &#x27;#74c476ff&#x27;, &#x27;#74c476ff&#x27;, &#x27;#74c476ff&#x27;, &#x27;#74c476ff&#x27;, &#x27;#74c476ff&#x27;, &#x27;#74c476ff&#x27;, &#x27;#74c476ff&#x27;, &#x27;#74c476ff&#x27;, &#x27;#74c476ff&#x27;, &#x27;#74c476ff&#x27;, &#x27;#74c476ff&#x27;, &#x27;#74c476ff&#x27;, &#x27;#74c476ff&#x27;, &#x27;#74c476ff&#x27;, &#x27;#74c476ff&#x27;, &#x27;#74c476ff&#x27;, &#x27;#74c476ff&#x27;, &#x27;#74c476ff&#x27;, &#x27;#74c476ff&#x27;, &#x27;#74c476ff&#x27;, &#x27;#74c476ff&#x27;, &#x27;#74c476ff&#x27;, &#x27;#74c476ff&#x27;, &#x27;#74c476ff&#x27;, &#x27;#74c476ff&#x27;, &#x27;#74c476ff&#x27;, &#x27;#74c476ff&#x27;, &#x27;#74c476ff&#x27;, &#x27;#74c476ff&#x27;, &#x27;#31a354ff&#x27;, &#x27;#31a354ff&#x27;, &#x27;#31a354ff&#x27;, &#x27;#31a354ff&#x27;, &#x27;#31a354ff&#x27;, &#x27;#31a354ff&#x27;, &#x27;#31a354ff&#x27;, &#x27;#31a354ff&#x27;, &#x27;#31a354ff&#x27;, &#x27;#31a354ff&#x27;, &#x27;#31a354ff&#x27;, &#x27;#31a354ff&#x27;, &#x27;#31a354ff&#x27;, &#x27;#31a354ff&#x27;, &#x27;#31a354ff&#x27;, &#x27;#31a354ff&#x27;, &#x27;#31a354ff&#x27;, &#x27;#31a354ff&#x27;, &#x27;#31a354ff&#x27;, &#x27;#31a354ff&#x27;, &#x27;#31a354ff&#x27;, &#x27;#31a354ff&#x27;, &#x27;#31a354ff&#x27;, &#x27;#31a354ff&#x27;, &#x27;#31a354ff&#x27;, &#x27;#31a354ff&#x27;, &#x27;#31a354ff&#x27;, &#x27;#31a354ff&#x27;, &#x27;#31a354ff&#x27;, &#x27;#31a354ff&#x27;, &#x27;#31a354ff&#x27;, &#x27;#31a354ff&#x27;, &#x27;#31a354ff&#x27;, &#x27;#31a354ff&#x27;, &#x27;#31a354ff&#x27;, &#x27;#31a354ff&#x27;, &#x27;#31a354ff&#x27;, &#x27;#31a354ff&#x27;, &#x27;#31a354ff&#x27;, &#x27;#31a354ff&#x27;, &#x27;#31a354ff&#x27;, &#x27;#31a354ff&#x27;, &#x27;#31a354ff&#x27;, &#x27;#31a354ff&#x27;, &#x27;#31a354ff&#x27;, &#x27;#31a354ff&#x27;, &#x27;#31a354ff&#x27;, &#x27;#31a354ff&#x27;, &#x27;#31a354ff&#x27;, &#x27;#31a354ff&#x27;, &#x27;#31a354ff&#x27;, &#x27;#31a354ff&#x27;, &#x27;#31a354ff&#x27;, &#x27;#31a354ff&#x27;, &#x27;#31a354ff&#x27;, &#x27;#31a354ff&#x27;, &#x27;#31a354ff&#x27;, &#x27;#31a354ff&#x27;, &#x27;#31a354ff&#x27;, &#x27;#31a354ff&#x27;, &#x27;#31a354ff&#x27;, &#x27;#31a354ff&#x27;, &#x27;#31a354ff&#x27;, &#x27;#31a354ff&#x27;, &#x27;#31a354ff&#x27;, &#x27;#31a354ff&#x27;, &#x27;#31a354ff&#x27;, &#x27;#31a354ff&#x27;, &#x27;#31a354ff&#x27;, &#x27;#31a354ff&#x27;, &#x27;#31a354ff&#x27;, &#x27;#31a354ff&#x27;, &#x27;#31a354ff&#x27;, &#x27;#31a354ff&#x27;, &#x27;#31a354ff&#x27;, &#x27;#31a354ff&#x27;, &#x27;#31a354ff&#x27;, &#x27;#31a354ff&#x27;, &#x27;#31a354ff&#x27;, &#x27;#31a354ff&#x27;, &#x27;#31a354ff&#x27;, &#x27;#31a354ff&#x27;, &#x27;#31a354ff&#x27;, &#x27;#006d2cff&#x27;, &#x27;#006d2cff&#x27;, &#x27;#006d2cff&#x27;, &#x27;#006d2cff&#x27;, &#x27;#006d2cff&#x27;, &#x27;#006d2cff&#x27;, &#x27;#006d2cff&#x27;, &#x27;#006d2cff&#x27;, &#x27;#006d2cff&#x27;, &#x27;#006d2cff&#x27;, &#x27;#006d2cff&#x27;, &#x27;#006d2cff&#x27;, &#x27;#006d2cff&#x27;, &#x27;#006d2cff&#x27;, &#x27;#006d2cff&#x27;, &#x27;#006d2cff&#x27;, &#x27;#006d2cff&#x27;, &#x27;#006d2cff&#x27;, &#x27;#006d2cff&#x27;, &#x27;#006d2cff&#x27;, &#x27;#006d2cff&#x27;, &#x27;#006d2cff&#x27;, &#x27;#006d2cff&#x27;, &#x27;#006d2cff&#x27;, &#x27;#006d2cff&#x27;, &#x27;#006d2cff&#x27;, &#x27;#006d2cff&#x27;, &#x27;#006d2cff&#x27;, &#x27;#006d2cff&#x27;, &#x27;#006d2cff&#x27;, &#x27;#006d2cff&#x27;, &#x27;#006d2cff&#x27;, &#x27;#006d2cff&#x27;, &#x27;#006d2cff&#x27;, &#x27;#006d2cff&#x27;, &#x27;#006d2cff&#x27;, &#x27;#006d2cff&#x27;, &#x27;#006d2cff&#x27;, &#x27;#006d2cff&#x27;, &#x27;#006d2cff&#x27;, &#x27;#006d2cff&#x27;, &#x27;#006d2cff&#x27;, &#x27;#006d2cff&#x27;, &#x27;#006d2cff&#x27;, &#x27;#006d2cff&#x27;, &#x27;#006d2cff&#x27;, &#x27;#006d2cff&#x27;, &#x27;#006d2cff&#x27;, &#x27;#006d2cff&#x27;, &#x27;#006d2cff&#x27;, &#x27;#006d2cff&#x27;, &#x27;#006d2cff&#x27;, &#x27;#006d2cff&#x27;, &#x27;#006d2cff&#x27;, &#x27;#006d2cff&#x27;, &#x27;#006d2cff&#x27;, &#x27;#006d2cff&#x27;, &#x27;#006d2cff&#x27;, &#x27;#006d2cff&#x27;, &#x27;#006d2cff&#x27;, &#x27;#006d2cff&#x27;, &#x27;#006d2cff&#x27;, &#x27;#006d2cff&#x27;, &#x27;#006d2cff&#x27;, &#x27;#006d2cff&#x27;, &#x27;#006d2cff&#x27;, &#x27;#006d2cff&#x27;, &#x27;#006d2cff&#x27;, &#x27;#006d2cff&#x27;, &#x27;#006d2cff&#x27;, &#x27;#006d2cff&#x27;, &#x27;#006d2cff&#x27;, &#x27;#006d2cff&#x27;, &#x27;#006d2cff&#x27;, &#x27;#006d2cff&#x27;, &#x27;#006d2cff&#x27;, &#x27;#006d2cff&#x27;, &#x27;#006d2cff&#x27;, &#x27;#006d2cff&#x27;, &#x27;#006d2cff&#x27;, &#x27;#006d2cff&#x27;, &#x27;#006d2cff&#x27;, &#x27;#006d2cff&#x27;, &#x27;#006d2cff&#x27;]);\n    \n\n    color_map_128a476561f663ec5fe40807a99eba9e.x = d3.scale.linear()\n              .domain([2093.5, 2232.0])\n              .range([0, 400]);\n\n    color_map_128a476561f663ec5fe40807a99eba9e.legend = L.control({position: &#x27;topright&#x27;});\n    color_map_128a476561f663ec5fe40807a99eba9e.legend.onAdd = function (map) {var div = L.DomUtil.create(&#x27;div&#x27;, &#x27;legend&#x27;); return div};\n    color_map_128a476561f663ec5fe40807a99eba9e.legend.addTo(map_8ffb519a6789beec7bca52e31d2aa7e8);\n\n    color_map_128a476561f663ec5fe40807a99eba9e.xAxis = d3.svg.axis()\n        .scale(color_map_128a476561f663ec5fe40807a99eba9e.x)\n        .orient(&quot;top&quot;)\n        .tickSize(1)\n        .tickValues([2093.5, 2116.5833333333335, 2139.6666666666665, 2162.75, 2185.8333333333335, 2208.9166666666665, 2232.0]);\n\n    color_map_128a476561f663ec5fe40807a99eba9e.svg = d3.select(&quot;.legend.leaflet-control&quot;).append(&quot;svg&quot;)\n        .attr(&quot;id&quot;, &#x27;legend&#x27;)\n        .attr(&quot;width&quot;, 450)\n        .attr(&quot;height&quot;, 40);\n\n    color_map_128a476561f663ec5fe40807a99eba9e.g = color_map_128a476561f663ec5fe40807a99eba9e.svg.append(&quot;g&quot;)\n        .attr(&quot;class&quot;, &quot;key&quot;)\n        .attr(&quot;transform&quot;, &quot;translate(25,16)&quot;);\n\n    color_map_128a476561f663ec5fe40807a99eba9e.g.selectAll(&quot;rect&quot;)\n        .data(color_map_128a476561f663ec5fe40807a99eba9e.color.range().map(function(d, i) {\n          return {\n            x0: i ? color_map_128a476561f663ec5fe40807a99eba9e.x(color_map_128a476561f663ec5fe40807a99eba9e.color.domain()[i - 1]) : color_map_128a476561f663ec5fe40807a99eba9e.x.range()[0],\n            x1: i &lt; color_map_128a476561f663ec5fe40807a99eba9e.color.domain().length ? color_map_128a476561f663ec5fe40807a99eba9e.x(color_map_128a476561f663ec5fe40807a99eba9e.color.domain()[i]) : color_map_128a476561f663ec5fe40807a99eba9e.x.range()[1],\n            z: d\n          };\n        }))\n      .enter().append(&quot;rect&quot;)\n        .attr(&quot;height&quot;, 10)\n        .attr(&quot;x&quot;, function(d) { return d.x0; })\n        .attr(&quot;width&quot;, function(d) { return d.x1 - d.x0; })\n        .style(&quot;fill&quot;, function(d) { return d.z; });\n\n    color_map_128a476561f663ec5fe40807a99eba9e.g.call(color_map_128a476561f663ec5fe40807a99eba9e.xAxis).append(&quot;text&quot;)\n        .attr(&quot;class&quot;, &quot;caption&quot;)\n        .attr(&quot;y&quot;, 21)\n        .text(&#x27;&#x27;);\n&lt;/script&gt;\" style=\"position:absolute;width:100%;height:100%;left:0;top:0;border:none !important;\" allowfullscreen webkitallowfullscreen mozallowfullscreen></iframe></div></div>"
     },
     "execution_count": 20,
     "metadata": {},
     "output_type": "execute_result"
    }
   ],
   "source": [
    "import json\n",
    "import folium\n",
    "import warnings\n",
    "warnings.filterwarnings(action='ignore')\n",
    "\n",
    "geo_path = path+'Pusan.json'\n",
    "geo_str = json.load(open(geo_path,encoding='utf-8'))\n",
    "\n",
    "map = folium.Map(location=[35.179554, 129.0756416],\n",
    "                 zoom_start=10.5,\n",
    "                 tiles='Stamen Toner')\n",
    "\n",
    "map.choropleth(geo_data=geo_str,\n",
    "               data = gu_data_disel,\n",
    "               columns=[gu_data_disel.index,'경유가격'],\n",
    "               fill_color='Greens',\n",
    "               key_on='feature.id')\n",
    "\n",
    "map"
   ],
   "metadata": {
    "collapsed": false,
    "pycharm": {
     "name": "#%%\n"
    }
   }
  },
  {
   "cell_type": "code",
   "execution_count": null,
   "outputs": [],
   "source": [],
   "metadata": {
    "collapsed": false,
    "pycharm": {
     "name": "#%%\n"
    }
   }
  }
 ],
 "metadata": {
  "kernelspec": {
   "display_name": "Python 3",
   "language": "python",
   "name": "python3"
  },
  "language_info": {
   "codemirror_mode": {
    "name": "ipython",
    "version": 2
   },
   "file_extension": ".py",
   "mimetype": "text/x-python",
   "name": "python",
   "nbconvert_exporter": "python",
   "pygments_lexer": "ipython2",
   "version": "2.7.6"
  }
 },
 "nbformat": 4,
 "nbformat_minor": 0
}